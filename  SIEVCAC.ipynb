{
 "cells": [
  {
   "cell_type": "markdown",
   "id": "01901f7a-6281-46ba-aef0-9e3fe5d3add1",
   "metadata": {},
   "source": [
    "# Sistema de Información de Eventos de Violencia del Conflicto Armado SIEVCAC - Víctimas DF Desaparición Forzada"
   ]
  },
  {
   "cell_type": "markdown",
   "id": "dabf2b89-783b-4d3f-818f-dbda84968c7f",
   "metadata": {},
   "source": [
    "Victimas para el tipo de violencia DF Desaparición Forzada, con corte al 30 - 09 - 2024"
   ]
  },
  {
   "cell_type": "markdown",
   "id": "21a9e587-0522-40c9-bf1a-3031635a71c8",
   "metadata": {},
   "source": [
    "## instalaciones "
   ]
  },
  {
   "cell_type": "code",
   "execution_count": 1,
   "id": "0b1551a3-045b-4196-b249-db0584b79a32",
   "metadata": {},
   "outputs": [
    {
     "name": "stdout",
     "output_type": "stream",
     "text": [
      "Requirement already satisfied: requests in c:\\users\\david\\pycharmprojects\\datavictimas\\.venv\\lib\\site-packages (2.32.3)\n",
      "Requirement already satisfied: pandas in c:\\users\\david\\pycharmprojects\\datavictimas\\.venv\\lib\\site-packages (2.2.3)\n",
      "Requirement already satisfied: charset-normalizer<4,>=2 in c:\\users\\david\\pycharmprojects\\datavictimas\\.venv\\lib\\site-packages (from requests) (3.4.2)\n",
      "Requirement already satisfied: idna<4,>=2.5 in c:\\users\\david\\pycharmprojects\\datavictimas\\.venv\\lib\\site-packages (from requests) (3.10)\n",
      "Requirement already satisfied: urllib3<3,>=1.21.1 in c:\\users\\david\\pycharmprojects\\datavictimas\\.venv\\lib\\site-packages (from requests) (2.4.0)\n",
      "Requirement already satisfied: certifi>=2017.4.17 in c:\\users\\david\\pycharmprojects\\datavictimas\\.venv\\lib\\site-packages (from requests) (2025.4.26)\n",
      "Requirement already satisfied: numpy>=1.26.0 in c:\\users\\david\\pycharmprojects\\datavictimas\\.venv\\lib\\site-packages (from pandas) (2.2.6)\n",
      "Requirement already satisfied: python-dateutil>=2.8.2 in c:\\users\\david\\pycharmprojects\\datavictimas\\.venv\\lib\\site-packages (from pandas) (2.9.0.post0)\n",
      "Requirement already satisfied: pytz>=2020.1 in c:\\users\\david\\pycharmprojects\\datavictimas\\.venv\\lib\\site-packages (from pandas) (2025.2)\n",
      "Requirement already satisfied: tzdata>=2022.7 in c:\\users\\david\\pycharmprojects\\datavictimas\\.venv\\lib\\site-packages (from pandas) (2025.2)\n",
      "Requirement already satisfied: six>=1.5 in c:\\users\\david\\pycharmprojects\\datavictimas\\.venv\\lib\\site-packages (from python-dateutil>=2.8.2->pandas) (1.17.0)\n"
     ]
    },
    {
     "name": "stderr",
     "output_type": "stream",
     "text": [
      "\n",
      "[notice] A new release of pip is available: 23.2.1 -> 25.1.1\n",
      "[notice] To update, run: python.exe -m pip install --upgrade pip\n"
     ]
    }
   ],
   "source": [
    "!pip install requests pandas\n"
   ]
  },
  {
   "cell_type": "code",
   "execution_count": 2,
   "id": "a77fafab-a268-4e7a-b1cd-20b4d4d18f6f",
   "metadata": {},
   "outputs": [
    {
     "name": "stdout",
     "output_type": "stream",
     "text": [
      "Requirement already satisfied: folium in c:\\users\\david\\pycharmprojects\\datavictimas\\.venv\\lib\\site-packages (0.19.6)\n",
      "Requirement already satisfied: branca>=0.6.0 in c:\\users\\david\\pycharmprojects\\datavictimas\\.venv\\lib\\site-packages (from folium) (0.8.1)\n",
      "Requirement already satisfied: jinja2>=2.9 in c:\\users\\david\\pycharmprojects\\datavictimas\\.venv\\lib\\site-packages (from folium) (3.1.6)\n",
      "Requirement already satisfied: numpy in c:\\users\\david\\pycharmprojects\\datavictimas\\.venv\\lib\\site-packages (from folium) (2.2.6)\n",
      "Requirement already satisfied: requests in c:\\users\\david\\pycharmprojects\\datavictimas\\.venv\\lib\\site-packages (from folium) (2.32.3)\n",
      "Requirement already satisfied: xyzservices in c:\\users\\david\\pycharmprojects\\datavictimas\\.venv\\lib\\site-packages (from folium) (2025.4.0)\n",
      "Requirement already satisfied: MarkupSafe>=2.0 in c:\\users\\david\\pycharmprojects\\datavictimas\\.venv\\lib\\site-packages (from jinja2>=2.9->folium) (3.0.2)\n",
      "Requirement already satisfied: charset-normalizer<4,>=2 in c:\\users\\david\\pycharmprojects\\datavictimas\\.venv\\lib\\site-packages (from requests->folium) (3.4.2)\n",
      "Requirement already satisfied: idna<4,>=2.5 in c:\\users\\david\\pycharmprojects\\datavictimas\\.venv\\lib\\site-packages (from requests->folium) (3.10)\n",
      "Requirement already satisfied: urllib3<3,>=1.21.1 in c:\\users\\david\\pycharmprojects\\datavictimas\\.venv\\lib\\site-packages (from requests->folium) (2.4.0)\n",
      "Requirement already satisfied: certifi>=2017.4.17 in c:\\users\\david\\pycharmprojects\\datavictimas\\.venv\\lib\\site-packages (from requests->folium) (2025.4.26)\n"
     ]
    },
    {
     "name": "stderr",
     "output_type": "stream",
     "text": [
      "\n",
      "[notice] A new release of pip is available: 23.2.1 -> 25.1.1\n",
      "[notice] To update, run: python.exe -m pip install --upgrade pip\n"
     ]
    }
   ],
   "source": [
    "!pip install folium\n"
   ]
  },
  {
   "cell_type": "code",
   "execution_count": 3,
   "id": "b12add8a-2d54-44fb-8572-5baf43decffa",
   "metadata": {},
   "outputs": [
    {
     "name": "stdout",
     "output_type": "stream",
     "text": [
      "Requirement already satisfied: matplotlib in c:\\users\\david\\pycharmprojects\\datavictimas\\.venv\\lib\\site-packages (3.10.3)\n",
      "Requirement already satisfied: contourpy>=1.0.1 in c:\\users\\david\\pycharmprojects\\datavictimas\\.venv\\lib\\site-packages (from matplotlib) (1.3.2)\n",
      "Requirement already satisfied: cycler>=0.10 in c:\\users\\david\\pycharmprojects\\datavictimas\\.venv\\lib\\site-packages (from matplotlib) (0.12.1)\n",
      "Requirement already satisfied: fonttools>=4.22.0 in c:\\users\\david\\pycharmprojects\\datavictimas\\.venv\\lib\\site-packages (from matplotlib) (4.58.1)\n",
      "Requirement already satisfied: kiwisolver>=1.3.1 in c:\\users\\david\\pycharmprojects\\datavictimas\\.venv\\lib\\site-packages (from matplotlib) (1.4.8)\n",
      "Requirement already satisfied: numpy>=1.23 in c:\\users\\david\\pycharmprojects\\datavictimas\\.venv\\lib\\site-packages (from matplotlib) (2.2.6)\n",
      "Requirement already satisfied: packaging>=20.0 in c:\\users\\david\\pycharmprojects\\datavictimas\\.venv\\lib\\site-packages (from matplotlib) (25.0)\n",
      "Requirement already satisfied: pillow>=8 in c:\\users\\david\\pycharmprojects\\datavictimas\\.venv\\lib\\site-packages (from matplotlib) (11.2.1)\n",
      "Requirement already satisfied: pyparsing>=2.3.1 in c:\\users\\david\\pycharmprojects\\datavictimas\\.venv\\lib\\site-packages (from matplotlib) (3.2.3)\n",
      "Requirement already satisfied: python-dateutil>=2.7 in c:\\users\\david\\pycharmprojects\\datavictimas\\.venv\\lib\\site-packages (from matplotlib) (2.9.0.post0)\n",
      "Requirement already satisfied: six>=1.5 in c:\\users\\david\\pycharmprojects\\datavictimas\\.venv\\lib\\site-packages (from python-dateutil>=2.7->matplotlib) (1.17.0)\n",
      "Note: you may need to restart the kernel to use updated packages.\n"
     ]
    },
    {
     "name": "stderr",
     "output_type": "stream",
     "text": [
      "\n",
      "[notice] A new release of pip is available: 23.2.1 -> 25.1.1\n",
      "[notice] To update, run: python.exe -m pip install --upgrade pip\n"
     ]
    }
   ],
   "source": [
    "pip install matplotlib\n"
   ]
  },
  {
   "cell_type": "code",
   "execution_count": 4,
   "id": "e02f3379-0868-4e0d-a9ea-687498b5fdb6",
   "metadata": {},
   "outputs": [
    {
     "name": "stdout",
     "output_type": "stream",
     "text": [
      "Requirement already satisfied: plotly in c:\\users\\david\\pycharmprojects\\datavictimas\\.venv\\lib\\site-packages (6.1.2)\n",
      "Requirement already satisfied: ipywidgets in c:\\users\\david\\pycharmprojects\\datavictimas\\.venv\\lib\\site-packages (8.1.7)\n",
      "Requirement already satisfied: narwhals>=1.15.1 in c:\\users\\david\\pycharmprojects\\datavictimas\\.venv\\lib\\site-packages (from plotly) (1.41.0)\n",
      "Requirement already satisfied: packaging in c:\\users\\david\\pycharmprojects\\datavictimas\\.venv\\lib\\site-packages (from plotly) (25.0)\n",
      "Requirement already satisfied: comm>=0.1.3 in c:\\users\\david\\pycharmprojects\\datavictimas\\.venv\\lib\\site-packages (from ipywidgets) (0.2.2)\n",
      "Requirement already satisfied: ipython>=6.1.0 in c:\\users\\david\\pycharmprojects\\datavictimas\\.venv\\lib\\site-packages (from ipywidgets) (9.2.0)\n",
      "Requirement already satisfied: traitlets>=4.3.1 in c:\\users\\david\\pycharmprojects\\datavictimas\\.venv\\lib\\site-packages (from ipywidgets) (5.14.3)\n",
      "Requirement already satisfied: widgetsnbextension~=4.0.14 in c:\\users\\david\\pycharmprojects\\datavictimas\\.venv\\lib\\site-packages (from ipywidgets) (4.0.14)\n",
      "Requirement already satisfied: jupyterlab_widgets~=3.0.15 in c:\\users\\david\\pycharmprojects\\datavictimas\\.venv\\lib\\site-packages (from ipywidgets) (3.0.15)\n",
      "Requirement already satisfied: colorama in c:\\users\\david\\pycharmprojects\\datavictimas\\.venv\\lib\\site-packages (from ipython>=6.1.0->ipywidgets) (0.4.6)\n",
      "Requirement already satisfied: decorator in c:\\users\\david\\pycharmprojects\\datavictimas\\.venv\\lib\\site-packages (from ipython>=6.1.0->ipywidgets) (5.2.1)\n",
      "Requirement already satisfied: ipython-pygments-lexers in c:\\users\\david\\pycharmprojects\\datavictimas\\.venv\\lib\\site-packages (from ipython>=6.1.0->ipywidgets) (1.1.1)\n",
      "Requirement already satisfied: jedi>=0.16 in c:\\users\\david\\pycharmprojects\\datavictimas\\.venv\\lib\\site-packages (from ipython>=6.1.0->ipywidgets) (0.19.2)\n",
      "Requirement already satisfied: matplotlib-inline in c:\\users\\david\\pycharmprojects\\datavictimas\\.venv\\lib\\site-packages (from ipython>=6.1.0->ipywidgets) (0.1.7)\n",
      "Requirement already satisfied: prompt_toolkit<3.1.0,>=3.0.41 in c:\\users\\david\\pycharmprojects\\datavictimas\\.venv\\lib\\site-packages (from ipython>=6.1.0->ipywidgets) (3.0.51)\n",
      "Requirement already satisfied: pygments>=2.4.0 in c:\\users\\david\\pycharmprojects\\datavictimas\\.venv\\lib\\site-packages (from ipython>=6.1.0->ipywidgets) (2.19.1)\n",
      "Requirement already satisfied: stack_data in c:\\users\\david\\pycharmprojects\\datavictimas\\.venv\\lib\\site-packages (from ipython>=6.1.0->ipywidgets) (0.6.3)\n",
      "Requirement already satisfied: parso<0.9.0,>=0.8.4 in c:\\users\\david\\pycharmprojects\\datavictimas\\.venv\\lib\\site-packages (from jedi>=0.16->ipython>=6.1.0->ipywidgets) (0.8.4)\n",
      "Requirement already satisfied: wcwidth in c:\\users\\david\\pycharmprojects\\datavictimas\\.venv\\lib\\site-packages (from prompt_toolkit<3.1.0,>=3.0.41->ipython>=6.1.0->ipywidgets) (0.2.13)\n",
      "Requirement already satisfied: executing>=1.2.0 in c:\\users\\david\\pycharmprojects\\datavictimas\\.venv\\lib\\site-packages (from stack_data->ipython>=6.1.0->ipywidgets) (2.2.0)\n",
      "Requirement already satisfied: asttokens>=2.1.0 in c:\\users\\david\\pycharmprojects\\datavictimas\\.venv\\lib\\site-packages (from stack_data->ipython>=6.1.0->ipywidgets) (3.0.0)\n",
      "Requirement already satisfied: pure-eval in c:\\users\\david\\pycharmprojects\\datavictimas\\.venv\\lib\\site-packages (from stack_data->ipython>=6.1.0->ipywidgets) (0.2.3)\n",
      "Note: you may need to restart the kernel to use updated packages.\n"
     ]
    },
    {
     "name": "stderr",
     "output_type": "stream",
     "text": [
      "\n",
      "[notice] A new release of pip is available: 23.2.1 -> 25.1.1\n",
      "[notice] To update, run: python.exe -m pip install --upgrade pip\n"
     ]
    }
   ],
   "source": [
    "pip install plotly ipywidgets\n"
   ]
  },
  {
   "cell_type": "code",
   "execution_count": 5,
   "id": "8cfb3778-5d61-46f7-9ace-11a18bd832b6",
   "metadata": {},
   "outputs": [
    {
     "name": "stdout",
     "output_type": "stream",
     "text": [
      "Requirement already satisfied: dash in c:\\users\\david\\pycharmprojects\\datavictimas\\.venv\\lib\\site-packages (3.0.4)\n",
      "Requirement already satisfied: Flask<3.1,>=1.0.4 in c:\\users\\david\\pycharmprojects\\datavictimas\\.venv\\lib\\site-packages (from dash) (3.0.3)\n",
      "Requirement already satisfied: Werkzeug<3.1 in c:\\users\\david\\pycharmprojects\\datavictimas\\.venv\\lib\\site-packages (from dash) (3.0.6)\n",
      "Requirement already satisfied: plotly>=5.0.0 in c:\\users\\david\\pycharmprojects\\datavictimas\\.venv\\lib\\site-packages (from dash) (6.1.2)\n",
      "Requirement already satisfied: importlib-metadata in c:\\users\\david\\pycharmprojects\\datavictimas\\.venv\\lib\\site-packages (from dash) (8.7.0)\n",
      "Requirement already satisfied: typing-extensions>=4.1.1 in c:\\users\\david\\pycharmprojects\\datavictimas\\.venv\\lib\\site-packages (from dash) (4.13.2)\n",
      "Requirement already satisfied: requests in c:\\users\\david\\pycharmprojects\\datavictimas\\.venv\\lib\\site-packages (from dash) (2.32.3)\n",
      "Requirement already satisfied: retrying in c:\\users\\david\\pycharmprojects\\datavictimas\\.venv\\lib\\site-packages (from dash) (1.3.4)\n",
      "Requirement already satisfied: nest-asyncio in c:\\users\\david\\pycharmprojects\\datavictimas\\.venv\\lib\\site-packages (from dash) (1.6.0)\n",
      "Requirement already satisfied: setuptools in c:\\users\\david\\pycharmprojects\\datavictimas\\.venv\\lib\\site-packages (from dash) (80.9.0)\n",
      "Requirement already satisfied: Jinja2>=3.1.2 in c:\\users\\david\\pycharmprojects\\datavictimas\\.venv\\lib\\site-packages (from Flask<3.1,>=1.0.4->dash) (3.1.6)\n",
      "Requirement already satisfied: itsdangerous>=2.1.2 in c:\\users\\david\\pycharmprojects\\datavictimas\\.venv\\lib\\site-packages (from Flask<3.1,>=1.0.4->dash) (2.2.0)\n",
      "Requirement already satisfied: click>=8.1.3 in c:\\users\\david\\pycharmprojects\\datavictimas\\.venv\\lib\\site-packages (from Flask<3.1,>=1.0.4->dash) (8.2.1)\n",
      "Requirement already satisfied: blinker>=1.6.2 in c:\\users\\david\\pycharmprojects\\datavictimas\\.venv\\lib\\site-packages (from Flask<3.1,>=1.0.4->dash) (1.9.0)\n",
      "Requirement already satisfied: narwhals>=1.15.1 in c:\\users\\david\\pycharmprojects\\datavictimas\\.venv\\lib\\site-packages (from plotly>=5.0.0->dash) (1.41.0)\n",
      "Requirement already satisfied: packaging in c:\\users\\david\\pycharmprojects\\datavictimas\\.venv\\lib\\site-packages (from plotly>=5.0.0->dash) (25.0)\n",
      "Requirement already satisfied: MarkupSafe>=2.1.1 in c:\\users\\david\\pycharmprojects\\datavictimas\\.venv\\lib\\site-packages (from Werkzeug<3.1->dash) (3.0.2)\n",
      "Requirement already satisfied: zipp>=3.20 in c:\\users\\david\\pycharmprojects\\datavictimas\\.venv\\lib\\site-packages (from importlib-metadata->dash) (3.22.0)\n",
      "Requirement already satisfied: charset-normalizer<4,>=2 in c:\\users\\david\\pycharmprojects\\datavictimas\\.venv\\lib\\site-packages (from requests->dash) (3.4.2)\n",
      "Requirement already satisfied: idna<4,>=2.5 in c:\\users\\david\\pycharmprojects\\datavictimas\\.venv\\lib\\site-packages (from requests->dash) (3.10)\n",
      "Requirement already satisfied: urllib3<3,>=1.21.1 in c:\\users\\david\\pycharmprojects\\datavictimas\\.venv\\lib\\site-packages (from requests->dash) (2.4.0)\n",
      "Requirement already satisfied: certifi>=2017.4.17 in c:\\users\\david\\pycharmprojects\\datavictimas\\.venv\\lib\\site-packages (from requests->dash) (2025.4.26)\n",
      "Requirement already satisfied: six>=1.7.0 in c:\\users\\david\\pycharmprojects\\datavictimas\\.venv\\lib\\site-packages (from retrying->dash) (1.17.0)\n",
      "Requirement already satisfied: colorama in c:\\users\\david\\pycharmprojects\\datavictimas\\.venv\\lib\\site-packages (from click>=8.1.3->Flask<3.1,>=1.0.4->dash) (0.4.6)\n",
      "Note: you may need to restart the kernel to use updated packages.\n"
     ]
    },
    {
     "name": "stderr",
     "output_type": "stream",
     "text": [
      "\n",
      "[notice] A new release of pip is available: 23.2.1 -> 25.1.1\n",
      "[notice] To update, run: python.exe -m pip install --upgrade pip\n"
     ]
    }
   ],
   "source": [
    "pip install dash"
   ]
  },
  {
   "cell_type": "code",
   "execution_count": 6,
   "id": "5f294c62-b107-43f3-b739-481b81dae63a",
   "metadata": {},
   "outputs": [
    {
     "name": "stdout",
     "output_type": "stream",
     "text": [
      "Requirement already satisfied: plotly in c:\\users\\david\\pycharmprojects\\datavictimas\\.venv\\lib\\site-packages (6.1.2)\n",
      "Requirement already satisfied: narwhals>=1.15.1 in c:\\users\\david\\pycharmprojects\\datavictimas\\.venv\\lib\\site-packages (from plotly) (1.41.0)\n",
      "Requirement already satisfied: packaging in c:\\users\\david\\pycharmprojects\\datavictimas\\.venv\\lib\\site-packages (from plotly) (25.0)\n",
      "Note: you may need to restart the kernel to use updated packages.\n"
     ]
    },
    {
     "name": "stderr",
     "output_type": "stream",
     "text": [
      "\n",
      "[notice] A new release of pip is available: 23.2.1 -> 25.1.1\n",
      "[notice] To update, run: python.exe -m pip install --upgrade pip\n"
     ]
    }
   ],
   "source": [
    "pip install plotly\n"
   ]
  },
  {
   "cell_type": "markdown",
   "id": "1af7973e-6a3a-45ee-a05e-41f6fb6ea757",
   "metadata": {},
   "source": [
    "## Generar el daataframe"
   ]
  },
  {
   "cell_type": "code",
   "execution_count": 3,
   "id": "6503044f-fef4-4f08-a5fa-c81f70383a57",
   "metadata": {},
   "outputs": [
    {
     "name": "stdout",
     "output_type": "stream",
     "text": [
      "Descargando registros desde 0 hasta 50000...\n",
      "Descargando registros desde 50000 hasta 100000...\n",
      "Último lote recibido, terminando.\n",
      "\n",
      "DataFrame creado exitosamente con 80901 filas.\n",
      "  id_caso c_digo_dane_de_municipio  municipio  departamento   a_o mes d_a  \\\n",
      "0  100265                    25368  JERUSALEN  CUNDINAMARCA  1991   5  25   \n",
      "1  100282                    25386    LA MESA  CUNDINAMARCA  2004  12   2   \n",
      "2  101616                    25885     YACOPI  CUNDINAMARCA  1993   3   9   \n",
      "3  101616                    25885     YACOPI  CUNDINAMARCA  1993   3   9   \n",
      "4  102204                    27099     BOJAYA         CHOCO  1997   6   8   \n",
      "\n",
      "  id_persona    sexo          ocupaci_n calidad_de_la_v_ctima_o_la  \\\n",
      "0      72226  HOMBRE  PERSONAL DE SALUD                      CIVIL   \n",
      "1     129425  HOMBRE           EMPLEADO                      CIVIL   \n",
      "2      71898  HOMBRE          CAMPESINO                      CIVIL   \n",
      "3      71900  HOMBRE          CAMPESINO                      CIVIL   \n",
      "4      80824  HOMBRE             OBRERO                      CIVIL   \n",
      "\n",
      "  tipo_de_poblaci_n_vulnerable situaci_n_actual_de_la_v  \\\n",
      "0           MAESTRO O EDUCADOR          APARECIÓ MUERTO   \n",
      "1                          NaN          APARECIÓ MUERTO   \n",
      "2                          NaN          APARECIÓ MUERTO   \n",
      "3                          NaN          APARECIÓ MUERTO   \n",
      "4                          NaN          APARECIÓ MUERTO   \n",
      "\n",
      "                                    latitud_longitud fuente_de_informaci_n_de  \\\n",
      "0  {'type': 'Point', 'coordinates': [-74.68915853...                      NaN   \n",
      "1  {'type': 'Point', 'coordinates': [-74.47321717...          ENTIDAD PÚBLICA   \n",
      "2  {'type': 'Point', 'coordinates': [-74.33802435...   FAMILIARES O COMUNIDAD   \n",
      "3  {'type': 'Point', 'coordinates': [-74.33802435...   FAMILIARES O COMUNIDAD   \n",
      "4  {'type': 'Point', 'coordinates': [-77.09933025...          ENTIDAD PÚBLICA   \n",
      "\n",
      "                        edad militante_pol_tico fuerza_o_grupo_armado  \\\n",
      "0                        NaN                NaN                   NaN   \n",
      "1       ADULTEZ (29-59 AÑOS)                NaN                   NaN   \n",
      "2                        NaN                NaN                   NaN   \n",
      "3  ADOLESCENCIA (12-17 AÑOS)                NaN                   NaN   \n",
      "4                        NaN   UNIÓN PATRIÓTICA                   NaN   \n",
      "\n",
      "  descripci_n_fuerza_o_grupo etnia  \n",
      "0                        NaN   NaN  \n",
      "1                        NaN   NaN  \n",
      "2                        NaN   NaN  \n",
      "3                        NaN   NaN  \n",
      "4                        NaN   NaN  \n",
      "\n",
      "Datos guardados en 'datos_completos.csv'.\n"
     ]
    }
   ],
   "source": [
    "import requests\n",
    "import pandas as pd\n",
    "from time import sleep\n",
    "\n",
    "base_url = \"https://www.datos.gov.co/resource/c59y-p4sz.json\"\n",
    "limit = 50000\n",
    "offset = 0\n",
    "total_rows = 200000\n",
    "data = []\n",
    "max_retries = 3\n",
    "\n",
    "while offset < total_rows:\n",
    "    params = {\n",
    "       # 'filtro': 'sjsj',  # Clave corregida\n",
    "        '$limit': limit,\n",
    "        '$offset': offset\n",
    "    }\n",
    "\n",
    "    print(f\"Descargando registros desde {offset} hasta {offset + limit}...\")\n",
    "\n",
    "    for attempt in range(max_retries):\n",
    "        try:\n",
    "            response = requests.get(base_url, params=params, timeout=30)  # Timeout extendido a 30 segundos\n",
    "            if response.status_code == 200:\n",
    "                batch = response.json()\n",
    "                break\n",
    "            else:\n",
    "                print(f\"Error {response.status_code} en intento {attempt + 1}, reintentando en 5 segundos...\")\n",
    "                sleep(5)\n",
    "        except requests.exceptions.Timeout:\n",
    "            print(f\"Timeout en intento {attempt + 1}, reintentando en 5 segundos...\")\n",
    "            sleep(5)\n",
    "        except requests.exceptions.RequestException as e:\n",
    "            print(f\"Error en intento {attempt + 1}: {e}\")\n",
    "            sleep(5)\n",
    "    else:\n",
    "        print(\"Error persistente, abortando descarga.\")\n",
    "        break\n",
    "\n",
    "    if not batch:\n",
    "        print(\"No hay más datos, finalizando descarga.\")\n",
    "        break\n",
    "\n",
    "    data.extend(batch)\n",
    "\n",
    "    if len(batch) < limit:\n",
    "        print(\"Último lote recibido, terminando.\")\n",
    "        break\n",
    "\n",
    "    offset += limit\n",
    "\n",
    "    sleep(2)  # Espera entre lotes para no saturar el servidor\n",
    "\n",
    "df = pd.DataFrame(data)\n",
    "print(f\"\\nDataFrame creado exitosamente con {len(df)} filas.\")\n",
    "print(df.head())\n",
    "\n",
    "df.to_csv(\"datos_completos.csv\", index=False)\n",
    "print(\"\\nDatos guardados en 'datos_completos.csv'.\")"
   ]
  },
  {
   "cell_type": "markdown",
   "id": "4c774963-a5d5-4691-9bd5-16640dfdc8f5",
   "metadata": {},
   "source": [
    "### informacion del dataframe"
   ]
  },
  {
   "cell_type": "code",
   "execution_count": 4,
   "id": "c81edfec-835c-4264-818a-ddb338874364",
   "metadata": {},
   "outputs": [
    {
     "data": {
      "text/plain": [
       "Index(['id_caso', 'c_digo_dane_de_municipio', 'municipio', 'departamento',\n",
       "       'a_o', 'mes', 'd_a', 'id_persona', 'sexo', 'ocupaci_n',\n",
       "       'calidad_de_la_v_ctima_o_la', 'tipo_de_poblaci_n_vulnerable',\n",
       "       'situaci_n_actual_de_la_v', 'latitud_longitud',\n",
       "       'fuente_de_informaci_n_de', 'edad', 'militante_pol_tico',\n",
       "       'fuerza_o_grupo_armado', 'descripci_n_fuerza_o_grupo', 'etnia'],\n",
       "      dtype='object')"
      ]
     },
     "execution_count": 4,
     "metadata": {},
     "output_type": "execute_result"
    }
   ],
   "source": [
    "df.columns"
   ]
  },
  {
   "cell_type": "code",
   "execution_count": 4,
   "id": "4df8f2c7-b05b-47ab-bddd-2470af6db2da",
   "metadata": {},
   "outputs": [
    {
     "data": {
      "text/html": [
       "<div>\n",
       "<style scoped>\n",
       "    .dataframe tbody tr th:only-of-type {\n",
       "        vertical-align: middle;\n",
       "    }\n",
       "\n",
       "    .dataframe tbody tr th {\n",
       "        vertical-align: top;\n",
       "    }\n",
       "\n",
       "    .dataframe thead th {\n",
       "        text-align: right;\n",
       "    }\n",
       "</style>\n",
       "<table border=\"1\" class=\"dataframe\">\n",
       "  <thead>\n",
       "    <tr style=\"text-align: right;\">\n",
       "      <th></th>\n",
       "      <th>id_caso</th>\n",
       "      <th>c_digo_dane_de_municipio</th>\n",
       "      <th>municipio</th>\n",
       "      <th>departamento</th>\n",
       "      <th>a_o</th>\n",
       "      <th>mes</th>\n",
       "      <th>d_a</th>\n",
       "      <th>id_persona</th>\n",
       "      <th>sexo</th>\n",
       "      <th>ocupaci_n</th>\n",
       "      <th>calidad_de_la_v_ctima_o_la</th>\n",
       "      <th>tipo_de_poblaci_n_vulnerable</th>\n",
       "      <th>situaci_n_actual_de_la_v</th>\n",
       "      <th>latitud_longitud</th>\n",
       "      <th>fuente_de_informaci_n_de</th>\n",
       "      <th>edad</th>\n",
       "      <th>militante_pol_tico</th>\n",
       "      <th>fuerza_o_grupo_armado</th>\n",
       "      <th>descripci_n_fuerza_o_grupo</th>\n",
       "      <th>etnia</th>\n",
       "    </tr>\n",
       "  </thead>\n",
       "  <tbody>\n",
       "    <tr>\n",
       "      <th>0</th>\n",
       "      <td>100265</td>\n",
       "      <td>25368</td>\n",
       "      <td>JERUSALEN</td>\n",
       "      <td>CUNDINAMARCA</td>\n",
       "      <td>1991</td>\n",
       "      <td>5</td>\n",
       "      <td>25</td>\n",
       "      <td>72226</td>\n",
       "      <td>HOMBRE</td>\n",
       "      <td>PERSONAL DE SALUD</td>\n",
       "      <td>CIVIL</td>\n",
       "      <td>MAESTRO O EDUCADOR</td>\n",
       "      <td>APARECIÓ MUERTO</td>\n",
       "      <td>{'type': 'Point', 'coordinates': [-74.68915853...</td>\n",
       "      <td>NaN</td>\n",
       "      <td>NaN</td>\n",
       "      <td>NaN</td>\n",
       "      <td>NaN</td>\n",
       "      <td>NaN</td>\n",
       "      <td>NaN</td>\n",
       "    </tr>\n",
       "    <tr>\n",
       "      <th>1</th>\n",
       "      <td>100282</td>\n",
       "      <td>25386</td>\n",
       "      <td>LA MESA</td>\n",
       "      <td>CUNDINAMARCA</td>\n",
       "      <td>2004</td>\n",
       "      <td>12</td>\n",
       "      <td>2</td>\n",
       "      <td>129425</td>\n",
       "      <td>HOMBRE</td>\n",
       "      <td>EMPLEADO</td>\n",
       "      <td>CIVIL</td>\n",
       "      <td>NaN</td>\n",
       "      <td>APARECIÓ MUERTO</td>\n",
       "      <td>{'type': 'Point', 'coordinates': [-74.47321717...</td>\n",
       "      <td>ENTIDAD PÚBLICA</td>\n",
       "      <td>ADULTEZ (29-59 AÑOS)</td>\n",
       "      <td>NaN</td>\n",
       "      <td>NaN</td>\n",
       "      <td>NaN</td>\n",
       "      <td>NaN</td>\n",
       "    </tr>\n",
       "    <tr>\n",
       "      <th>2</th>\n",
       "      <td>101616</td>\n",
       "      <td>25885</td>\n",
       "      <td>YACOPI</td>\n",
       "      <td>CUNDINAMARCA</td>\n",
       "      <td>1993</td>\n",
       "      <td>3</td>\n",
       "      <td>9</td>\n",
       "      <td>71898</td>\n",
       "      <td>HOMBRE</td>\n",
       "      <td>CAMPESINO</td>\n",
       "      <td>CIVIL</td>\n",
       "      <td>NaN</td>\n",
       "      <td>APARECIÓ MUERTO</td>\n",
       "      <td>{'type': 'Point', 'coordinates': [-74.33802435...</td>\n",
       "      <td>FAMILIARES O COMUNIDAD</td>\n",
       "      <td>NaN</td>\n",
       "      <td>NaN</td>\n",
       "      <td>NaN</td>\n",
       "      <td>NaN</td>\n",
       "      <td>NaN</td>\n",
       "    </tr>\n",
       "    <tr>\n",
       "      <th>3</th>\n",
       "      <td>101616</td>\n",
       "      <td>25885</td>\n",
       "      <td>YACOPI</td>\n",
       "      <td>CUNDINAMARCA</td>\n",
       "      <td>1993</td>\n",
       "      <td>3</td>\n",
       "      <td>9</td>\n",
       "      <td>71900</td>\n",
       "      <td>HOMBRE</td>\n",
       "      <td>CAMPESINO</td>\n",
       "      <td>CIVIL</td>\n",
       "      <td>NaN</td>\n",
       "      <td>APARECIÓ MUERTO</td>\n",
       "      <td>{'type': 'Point', 'coordinates': [-74.33802435...</td>\n",
       "      <td>FAMILIARES O COMUNIDAD</td>\n",
       "      <td>ADOLESCENCIA (12-17 AÑOS)</td>\n",
       "      <td>NaN</td>\n",
       "      <td>NaN</td>\n",
       "      <td>NaN</td>\n",
       "      <td>NaN</td>\n",
       "    </tr>\n",
       "    <tr>\n",
       "      <th>4</th>\n",
       "      <td>102204</td>\n",
       "      <td>27099</td>\n",
       "      <td>BOJAYA</td>\n",
       "      <td>CHOCO</td>\n",
       "      <td>1997</td>\n",
       "      <td>6</td>\n",
       "      <td>8</td>\n",
       "      <td>80824</td>\n",
       "      <td>HOMBRE</td>\n",
       "      <td>OBRERO</td>\n",
       "      <td>CIVIL</td>\n",
       "      <td>NaN</td>\n",
       "      <td>APARECIÓ MUERTO</td>\n",
       "      <td>{'type': 'Point', 'coordinates': [-77.09933025...</td>\n",
       "      <td>ENTIDAD PÚBLICA</td>\n",
       "      <td>NaN</td>\n",
       "      <td>UNIÓN PATRIÓTICA</td>\n",
       "      <td>NaN</td>\n",
       "      <td>NaN</td>\n",
       "      <td>NaN</td>\n",
       "    </tr>\n",
       "  </tbody>\n",
       "</table>\n",
       "</div>"
      ],
      "text/plain": [
       "  id_caso c_digo_dane_de_municipio  municipio  departamento   a_o mes d_a  \\\n",
       "0  100265                    25368  JERUSALEN  CUNDINAMARCA  1991   5  25   \n",
       "1  100282                    25386    LA MESA  CUNDINAMARCA  2004  12   2   \n",
       "2  101616                    25885     YACOPI  CUNDINAMARCA  1993   3   9   \n",
       "3  101616                    25885     YACOPI  CUNDINAMARCA  1993   3   9   \n",
       "4  102204                    27099     BOJAYA         CHOCO  1997   6   8   \n",
       "\n",
       "  id_persona    sexo          ocupaci_n calidad_de_la_v_ctima_o_la  \\\n",
       "0      72226  HOMBRE  PERSONAL DE SALUD                      CIVIL   \n",
       "1     129425  HOMBRE           EMPLEADO                      CIVIL   \n",
       "2      71898  HOMBRE          CAMPESINO                      CIVIL   \n",
       "3      71900  HOMBRE          CAMPESINO                      CIVIL   \n",
       "4      80824  HOMBRE             OBRERO                      CIVIL   \n",
       "\n",
       "  tipo_de_poblaci_n_vulnerable situaci_n_actual_de_la_v  \\\n",
       "0           MAESTRO O EDUCADOR          APARECIÓ MUERTO   \n",
       "1                          NaN          APARECIÓ MUERTO   \n",
       "2                          NaN          APARECIÓ MUERTO   \n",
       "3                          NaN          APARECIÓ MUERTO   \n",
       "4                          NaN          APARECIÓ MUERTO   \n",
       "\n",
       "                                    latitud_longitud fuente_de_informaci_n_de  \\\n",
       "0  {'type': 'Point', 'coordinates': [-74.68915853...                      NaN   \n",
       "1  {'type': 'Point', 'coordinates': [-74.47321717...          ENTIDAD PÚBLICA   \n",
       "2  {'type': 'Point', 'coordinates': [-74.33802435...   FAMILIARES O COMUNIDAD   \n",
       "3  {'type': 'Point', 'coordinates': [-74.33802435...   FAMILIARES O COMUNIDAD   \n",
       "4  {'type': 'Point', 'coordinates': [-77.09933025...          ENTIDAD PÚBLICA   \n",
       "\n",
       "                        edad militante_pol_tico fuerza_o_grupo_armado  \\\n",
       "0                        NaN                NaN                   NaN   \n",
       "1       ADULTEZ (29-59 AÑOS)                NaN                   NaN   \n",
       "2                        NaN                NaN                   NaN   \n",
       "3  ADOLESCENCIA (12-17 AÑOS)                NaN                   NaN   \n",
       "4                        NaN   UNIÓN PATRIÓTICA                   NaN   \n",
       "\n",
       "  descripci_n_fuerza_o_grupo etnia  \n",
       "0                        NaN   NaN  \n",
       "1                        NaN   NaN  \n",
       "2                        NaN   NaN  \n",
       "3                        NaN   NaN  \n",
       "4                        NaN   NaN  "
      ]
     },
     "execution_count": 4,
     "metadata": {},
     "output_type": "execute_result"
    }
   ],
   "source": [
    "df.head(5)"
   ]
  },
  {
   "cell_type": "code",
   "execution_count": 5,
   "id": "37248bb9-a23c-4319-9394-d813c48387d5",
   "metadata": {},
   "outputs": [
    {
     "name": "stdout",
     "output_type": "stream",
     "text": [
      "['APARECIÓ MUERTO' 'DESAPARECIDO'\n",
      " 'SIGUE DESAPARECIDO PERO EXISTE INFORMACIÓN' 'APARECIÓ VIVO'\n",
      " 'MUERTO EN CAUTIVERIO' 'LIBERADO' 'CONTINÚA SECUESTRADO']\n"
     ]
    }
   ],
   "source": [
    "valores_unicos = df['situaci_n_actual_de_la_v'].unique()\n",
    "print(valores_unicos)\n"
   ]
  },
  {
   "cell_type": "markdown",
   "id": "c751696b-6fee-4e74-99d2-831db5a793ee",
   "metadata": {},
   "source": [
    "## situación Victima"
   ]
  },
  {
   "cell_type": "code",
   "execution_count": 6,
   "id": "219128ad-2b34-438a-815e-e8a0271bd30d",
   "metadata": {},
   "outputs": [
    {
     "name": "stdout",
     "output_type": "stream",
     "text": [
      "situaci_n_actual_de_la_v\n",
      "DESAPARECIDO                                  58987\n",
      "SIGUE DESAPARECIDO PERO EXISTE INFORMACIÓN    11740\n",
      "APARECIÓ MUERTO                                8380\n",
      "APARECIÓ VIVO                                  1789\n",
      "MUERTO EN CAUTIVERIO                              2\n",
      "LIBERADO                                          2\n",
      "CONTINÚA SECUESTRADO                              1\n",
      "Name: count, dtype: int64\n"
     ]
    }
   ],
   "source": [
    "import pandas as pd\n",
    "import matplotlib.pyplot as plt\n",
    "\n",
    "\n",
    "conteo_opciones = df['situaci_n_actual_de_la_v'].value_counts()\n",
    "print(conteo_opciones)\n"
   ]
  },
  {
   "cell_type": "code",
   "execution_count": 12,
   "id": "31693b62-61b1-4376-beb5-d1f06ac27dc1",
   "metadata": {},
   "outputs": [
    {
     "data": {
      "text/plain": [
       "situaci_n_actual_de_la_v\n",
       "DESAPARECIDO                                  58987\n",
       "SIGUE DESAPARECIDO PERO EXISTE INFORMACIÓN    11740\n",
       "APARECIÓ MUERTO                                8380\n",
       "APARECIÓ VIVO                                  1789\n",
       "MUERTO EN CAUTIVERIO                              2\n",
       "LIBERADO                                          2\n",
       "CONTINÚA SECUESTRADO                              1\n",
       "Name: count, dtype: int64"
      ]
     },
     "execution_count": 12,
     "metadata": {},
     "output_type": "execute_result"
    }
   ],
   "source": [
    "conteo_opciones"
   ]
  },
  {
   "cell_type": "code",
   "execution_count": 13,
   "id": "cfec075a-aa1d-4878-833a-c813cb0d5834",
   "metadata": {},
   "outputs": [
    {
     "data": {
      "image/png": "[encoded data removed]",
      "text/plain": [
       "<Figure size 1200x700 with 1 Axes>"
      ]
     },
     "metadata": {},
     "output_type": "display_data"
    }
   ],
   "source": [
    "import pandas as pd\n",
    "import matplotlib.pyplot as plt\n",
    "\n",
    "# Supongamos que tu DataFrame ya está cargado como df\n",
    "conteo_opciones = df['situaci_n_actual_de_la_v'].value_counts()\n",
    "\n",
    "# Gráfica\n",
    "fig, ax = plt.subplots(figsize=(12, 7))\n",
    "bars = ax.barh(conteo_opciones.index, conteo_opciones.values, color='teal', edgecolor='black', alpha=0.8)\n",
    "\n",
    "# Títulos y etiquetas\n",
    "ax.set_title('Situación Actual de la Víctima', fontsize=16, fontweight='bold')\n",
    "ax.set_xlabel('Cantidad de Casos', fontsize=12)\n",
    "ax.set_ylabel('Situación', fontsize=12)\n",
    "\n",
    "# Mostrar valores al lado de cada barra\n",
    "for bar in bars:\n",
    "    width = bar.get_width()\n",
    "    ax.text(width + 5, bar.get_y() + bar.get_height() / 2,\n",
    "            f'{int(width)}', va='center', fontsize=10, color='black', fontweight='bold')\n",
    "\n",
    "# Estilo general\n",
    "plt.tight_layout()\n",
    "plt.grid(axis='x', linestyle='--', alpha=0.5)\n",
    "plt.show()\n"
   ]
  },
  {
   "cell_type": "code",
   "execution_count": 7,
   "id": "01e5967e-9d2c-477c-b510-4ff696837653",
   "metadata": {
    "scrolled": true
   },
   "outputs": [
    {
     "data": {
      "application/vnd.plotly.v1+json": {
       "config": {
        "plotlyServerURL": "https://plot.ly"
       },
       "data": [
        {
         "domain": {
          "x": [
           0,
           1
          ],
          "y": [
           0,
           1
          ]
         },
         "hole": 0.3,
         "hovertemplate": "%{label}: %{value} casos<br>%{percent}",
         "labels": [
          "DESAPARECIDO",
          "SIGUE DESAPARECIDO PERO EXISTE INFORMACIÓN",
          "APARECIÓ MUERTO",
          "APARECIÓ VIVO",
          "MUERTO EN CAUTIVERIO",
          "LIBERADO",
          "CONTINÚA SECUESTRADO"
         ],
         "legendgroup": "",
         "marker": {
          "line": {
           "color": "white",
           "width": 2
          }
         },
         "name": "",
         "pull": [
          0.1,
          0.1,
          0.1,
          0.1,
          0.1,
          0.1,
          0.1
         ],
         "showlegend": true,
         "textinfo": "none",
         "type": "pie",
         "values": {
          "bdata": "a+YAANwtAAC8IAAA/QYAAAIAAAACAAAAAQAAAA==",
          "dtype": "i4"
         }
        }
       ],
       "layout": {
        "height": 700,
        "legend": {
         "font": {
          "size": 14
         },
         "orientation": "h",
         "title": {
          "text": "Categorías"
         },
         "tracegroupgap": 0,
         "x": 0.5,
         "xanchor": "center",
         "y": -0.15
        },
        "margin": {
         "b": 100,
         "t": 100
        },
        "piecolorway": [
         "rgb(102, 197, 204)",
         "rgb(246, 207, 113)",
         "rgb(248, 156, 116)",
         "rgb(220, 176, 242)",
         "rgb(135, 197, 95)",
         "rgb(158, 185, 243)",
         "rgb(254, 136, 177)",
         "rgb(201, 219, 116)",
         "rgb(139, 224, 164)",
         "rgb(180, 151, 231)",
         "rgb(179, 179, 179)"
        ],
        "template": {
         "data": {
          "bar": [
           {
            "error_x": {
             "color": "#2a3f5f"
            },
            "error_y": {
             "color": "#2a3f5f"
            },
            "marker": {
             "line": {
              "color": "#E5ECF6",
              "width": 0.5
             },
             "pattern": {
              "fillmode": "overlay",
              "size": 10,
              "solidity": 0.2
             }
            },
            "type": "bar"
           }
          ],
          "barpolar": [
           {
            "marker": {
             "line": {
              "color": "#E5ECF6",
              "width": 0.5
             },
             "pattern": {
              "fillmode": "overlay",
              "size": 10,
              "solidity": 0.2
             }
            },
            "type": "barpolar"
           }
          ],
          "carpet": [
           {
            "aaxis": {
             "endlinecolor": "#2a3f5f",
             "gridcolor": "white",
             "linecolor": "white",
             "minorgridcolor": "white",
             "startlinecolor": "#2a3f5f"
            },
            "baxis": {
             "endlinecolor": "#2a3f5f",
             "gridcolor": "white",
             "linecolor": "white",
             "minorgridcolor": "white",
             "startlinecolor": "#2a3f5f"
            },
            "type": "carpet"
           }
          ],
          "choropleth": [
           {
            "colorbar": {
             "outlinewidth": 0,
             "ticks": ""
            },
            "type": "choropleth"
           }
          ],
          "contour": [
           {
            "colorbar": {
             "outlinewidth": 0,
             "ticks": ""
            },
            "colorscale": [
             [
              0,
              "#0d0887"
             ],
             [
              0.1111111111111111,
              "#46039f"
             ],
             [
              0.2222222222222222,
              "#7201a8"
             ],
             [
              0.3333333333333333,
              "#9c179e"
             ],
             [
              0.4444444444444444,
              "#bd3786"
             ],
             [
              0.5555555555555556,
              "#d8576b"
             ],
             [
              0.6666666666666666,
              "#ed7953"
             ],
             [
              0.7777777777777778,
              "#fb9f3a"
             ],
             [
              0.8888888888888888,
              "#fdca26"
             ],
             [
              1,
              "#f0f921"
             ]
            ],
            "type": "contour"
           }
          ],
          "contourcarpet": [
           {
            "colorbar": {
             "outlinewidth": 0,
             "ticks": ""
            },
            "type": "contourcarpet"
           }
          ],
          "heatmap": [
           {
            "colorbar": {
             "outlinewidth": 0,
             "ticks": ""
            },
            "colorscale": [
             [
              0,
              "#0d0887"
             ],
             [
              0.1111111111111111,
              "#46039f"
             ],
             [
              0.2222222222222222,
              "#7201a8"
             ],
             [
              0.3333333333333333,
              "#9c179e"
             ],
             [
              0.4444444444444444,
              "#bd3786"
             ],
             [
              0.5555555555555556,
              "#d8576b"
             ],
             [
              0.6666666666666666,
              "#ed7953"
             ],
             [
              0.7777777777777778,
              "#fb9f3a"
             ],
             [
              0.8888888888888888,
              "#fdca26"
             ],
             [
              1,
              "#f0f921"
             ]
            ],
            "type": "heatmap"
           }
          ],
          "histogram": [
           {
            "marker": {
             "pattern": {
              "fillmode": "overlay",
              "size": 10,
              "solidity": 0.2
             }
            },
            "type": "histogram"
           }
          ],
          "histogram2d": [
           {
            "colorbar": {
             "outlinewidth": 0,
             "ticks": ""
            },
            "colorscale": [
             [
              0,
              "#0d0887"
             ],
             [
              0.1111111111111111,
              "#46039f"
             ],
             [
              0.2222222222222222,
              "#7201a8"
             ],
             [
              0.3333333333333333,
              "#9c179e"
             ],
             [
              0.4444444444444444,
              "#bd3786"
             ],
             [
              0.5555555555555556,
              "#d8576b"
             ],
             [
              0.6666666666666666,
              "#ed7953"
             ],
             [
              0.7777777777777778,
              "#fb9f3a"
             ],
             [
              0.8888888888888888,
              "#fdca26"
             ],
             [
              1,
              "#f0f921"
             ]
            ],
            "type": "histogram2d"
           }
          ],
          "histogram2dcontour": [
           {
            "colorbar": {
             "outlinewidth": 0,
             "ticks": ""
            },
            "colorscale": [
             [
              0,
              "#0d0887"
             ],
             [
              0.1111111111111111,
              "#46039f"
             ],
             [
              0.2222222222222222,
              "#7201a8"
             ],
             [
              0.3333333333333333,
              "#9c179e"
             ],
             [
              0.4444444444444444,
              "#bd3786"
             ],
             [
              0.5555555555555556,
              "#d8576b"
             ],
             [
              0.6666666666666666,
              "#ed7953"
             ],
             [
              0.7777777777777778,
              "#fb9f3a"
             ],
             [
              0.8888888888888888,
              "#fdca26"
             ],
             [
              1,
              "#f0f921"
             ]
            ],
            "type": "histogram2dcontour"
           }
          ],
          "mesh3d": [
           {
            "colorbar": {
             "outlinewidth": 0,
             "ticks": ""
            },
            "type": "mesh3d"
           }
          ],
          "parcoords": [
           {
            "line": {
             "colorbar": {
              "outlinewidth": 0,
              "ticks": ""
             }
            },
            "type": "parcoords"
           }
          ],
          "pie": [
           {
            "automargin": true,
            "type": "pie"
           }
          ],
          "scatter": [
           {
            "fillpattern": {
             "fillmode": "overlay",
             "size": 10,
             "solidity": 0.2
            },
            "type": "scatter"
           }
          ],
          "scatter3d": [
           {
            "line": {
             "colorbar": {
              "outlinewidth": 0,
              "ticks": ""
             }
            },
            "marker": {
             "colorbar": {
              "outlinewidth": 0,
              "ticks": ""
             }
            },
            "type": "scatter3d"
           }
          ],
          "scattercarpet": [
           {
            "marker": {
             "colorbar": {
              "outlinewidth": 0,
              "ticks": ""
             }
            },
            "type": "scattercarpet"
           }
          ],
          "scattergeo": [
           {
            "marker": {
             "colorbar": {
              "outlinewidth": 0,
              "ticks": ""
             }
            },
            "type": "scattergeo"
           }
          ],
          "scattergl": [
           {
            "marker": {
             "colorbar": {
              "outlinewidth": 0,
              "ticks": ""
             }
            },
            "type": "scattergl"
           }
          ],
          "scattermap": [
           {
            "marker": {
             "colorbar": {
              "outlinewidth": 0,
              "ticks": ""
             }
            },
            "type": "scattermap"
           }
          ],
          "scattermapbox": [
           {
            "marker": {
             "colorbar": {
              "outlinewidth": 0,
              "ticks": ""
             }
            },
            "type": "scattermapbox"
           }
          ],
          "scatterpolar": [
           {
            "marker": {
             "colorbar": {
              "outlinewidth": 0,
              "ticks": ""
             }
            },
            "type": "scatterpolar"
           }
          ],
          "scatterpolargl": [
           {
            "marker": {
             "colorbar": {
              "outlinewidth": 0,
              "ticks": ""
             }
            },
            "type": "scatterpolargl"
           }
          ],
          "scatterternary": [
           {
            "marker": {
             "colorbar": {
              "outlinewidth": 0,
              "ticks": ""
             }
            },
            "type": "scatterternary"
           }
          ],
          "surface": [
           {
            "colorbar": {
             "outlinewidth": 0,
             "ticks": ""
            },
            "colorscale": [
             [
              0,
              "#0d0887"
             ],
             [
              0.1111111111111111,
              "#46039f"
             ],
             [
              0.2222222222222222,
              "#7201a8"
             ],
             [
              0.3333333333333333,
              "#9c179e"
             ],
             [
              0.4444444444444444,
              "#bd3786"
             ],
             [
              0.5555555555555556,
              "#d8576b"
             ],
             [
              0.6666666666666666,
              "#ed7953"
             ],
             [
              0.7777777777777778,
              "#fb9f3a"
             ],
             [
              0.8888888888888888,
              "#fdca26"
             ],
             [
              1,
              "#f0f921"
             ]
            ],
            "type": "surface"
           }
          ],
          "table": [
           {
            "cells": {
             "fill": {
              "color": "#EBF0F8"
             },
             "line": {
              "color": "white"
             }
            },
            "header": {
             "fill": {
              "color": "#C8D4E3"
             },
             "line": {
              "color": "white"
             }
            },
            "type": "table"
           }
          ]
         },
         "layout": {
          "annotationdefaults": {
           "arrowcolor": "#2a3f5f",
           "arrowhead": 0,
           "arrowwidth": 1
          },
          "autotypenumbers": "strict",
          "coloraxis": {
           "colorbar": {
            "outlinewidth": 0,
            "ticks": ""
           }
          },
          "colorscale": {
           "diverging": [
            [
             0,
             "#8e0152"
            ],
            [
             0.1,
             "#c51b7d"
            ],
            [
             0.2,
             "#de77ae"
            ],
            [
             0.3,
             "#f1b6da"
            ],
            [
             0.4,
             "#fde0ef"
            ],
            [
             0.5,
             "#f7f7f7"
            ],
            [
             0.6,
             "#e6f5d0"
            ],
            [
             0.7,
             "#b8e186"
            ],
            [
             0.8,
             "#7fbc41"
            ],
            [
             0.9,
             "#4d9221"
            ],
            [
             1,
             "#276419"
            ]
           ],
           "sequential": [
            [
             0,
             "#0d0887"
            ],
            [
             0.1111111111111111,
             "#46039f"
            ],
            [
             0.2222222222222222,
             "#7201a8"
            ],
            [
             0.3333333333333333,
             "#9c179e"
            ],
            [
             0.4444444444444444,
             "#bd3786"
            ],
            [
             0.5555555555555556,
             "#d8576b"
            ],
            [
             0.6666666666666666,
             "#ed7953"
            ],
            [
             0.7777777777777778,
             "#fb9f3a"
            ],
            [
             0.8888888888888888,
             "#fdca26"
            ],
            [
             1,
             "#f0f921"
            ]
           ],
           "sequentialminus": [
            [
             0,
             "#0d0887"
            ],
            [
             0.1111111111111111,
             "#46039f"
            ],
            [
             0.2222222222222222,
             "#7201a8"
            ],
            [
             0.3333333333333333,
             "#9c179e"
            ],
            [
             0.4444444444444444,
             "#bd3786"
            ],
            [
             0.5555555555555556,
             "#d8576b"
            ],
            [
             0.6666666666666666,
             "#ed7953"
            ],
            [
             0.7777777777777778,
             "#fb9f3a"
            ],
            [
             0.8888888888888888,
             "#fdca26"
            ],
            [
             1,
             "#f0f921"
            ]
           ]
          },
          "colorway": [
           "#636efa",
           "#EF553B",
           "#00cc96",
           "#ab63fa",
           "#FFA15A",
           "#19d3f3",
           "#FF6692",
           "#B6E880",
           "#FF97FF",
           "#FECB52"
          ],
          "font": {
           "color": "#2a3f5f"
          },
          "geo": {
           "bgcolor": "white",
           "lakecolor": "white",
           "landcolor": "#E5ECF6",
           "showlakes": true,
           "showland": true,
           "subunitcolor": "white"
          },
          "hoverlabel": {
           "align": "left"
          },
          "hovermode": "closest",
          "mapbox": {
           "style": "light"
          },
          "paper_bgcolor": "white",
          "plot_bgcolor": "#E5ECF6",
          "polar": {
           "angularaxis": {
            "gridcolor": "white",
            "linecolor": "white",
            "ticks": ""
           },
           "bgcolor": "#E5ECF6",
           "radialaxis": {
            "gridcolor": "white",
            "linecolor": "white",
            "ticks": ""
           }
          },
          "scene": {
           "xaxis": {
            "backgroundcolor": "#E5ECF6",
            "gridcolor": "white",
            "gridwidth": 2,
            "linecolor": "white",
            "showbackground": true,
            "ticks": "",
            "zerolinecolor": "white"
           },
           "yaxis": {
            "backgroundcolor": "#E5ECF6",
            "gridcolor": "white",
            "gridwidth": 2,
            "linecolor": "white",
            "showbackground": true,
            "ticks": "",
            "zerolinecolor": "white"
           },
           "zaxis": {
            "backgroundcolor": "#E5ECF6",
            "gridcolor": "white",
            "gridwidth": 2,
            "linecolor": "white",
            "showbackground": true,
            "ticks": "",
            "zerolinecolor": "white"
           }
          },
          "shapedefaults": {
           "line": {
            "color": "#2a3f5f"
           }
          },
          "ternary": {
           "aaxis": {
            "gridcolor": "white",
            "linecolor": "white",
            "ticks": ""
           },
           "baxis": {
            "gridcolor": "white",
            "linecolor": "white",
            "ticks": ""
           },
           "bgcolor": "#E5ECF6",
           "caxis": {
            "gridcolor": "white",
            "linecolor": "white",
            "ticks": ""
           }
          },
          "title": {
           "x": 0.05
          },
          "xaxis": {
           "automargin": true,
           "gridcolor": "white",
           "linecolor": "white",
           "ticks": "",
           "title": {
            "standoff": 15
           },
           "zerolinecolor": "white",
           "zerolinewidth": 2
          },
          "yaxis": {
           "automargin": true,
           "gridcolor": "white",
           "linecolor": "white",
           "ticks": "",
           "title": {
            "standoff": 15
           },
           "zerolinecolor": "white",
           "zerolinewidth": 2
          }
         }
        },
        "title": {
         "font": {
          "color": "darkslategray",
          "size": 28
         },
         "text": "Situación Actual de la Víctima",
         "x": 0.5
        },
        "width": 700
       }
      },
      "image/png": "[encoded data removed]"
     },
     "metadata": {},
     "output_type": "display_data"
    }
   ],
   "source": [
    "import plotly.express as px\n",
    "\n",
    "fig = px.pie(\n",
    "    names=conteo_opciones.index,\n",
    "    values=conteo_opciones.values,\n",
    "    title='Situación Actual de la Víctima',\n",
    "    color_discrete_sequence=px.colors.qualitative.Pastel,\n",
    "    hole=0.3\n",
    ")\n",
    "\n",
    "fig.update_traces(\n",
    "    textinfo='none',  # no mostrar texto dentro de la torta\n",
    "    pull=[0.1]*len(conteo_opciones),\n",
    "    marker=dict(line=dict(color='white', width=2)),\n",
    "    hovertemplate='%{label}: %{value} casos<br>%{percent}'  # porcentaje solo en hover\n",
    ")\n",
    "\n",
    "fig.update_layout(\n",
    "    width=700,\n",
    "    height=700,\n",
    "    title=dict(text='Situación Actual de la Víctima', font=dict(size=28, color='darkslategray'), x=0.5),\n",
    "    legend_title_text='Categorías',\n",
    "    legend=dict(\n",
    "        orientation='h',\n",
    "        y=-0.15,\n",
    "        x=0.5,\n",
    "        xanchor='center',\n",
    "        font=dict(size=14)\n",
    "    ),\n",
    "    margin=dict(t=100, b=100)\n",
    ")\n",
    "\n",
    "fig.show()\n",
    "fig.write_html(\"situacion_victimas.html\")\n"
   ]
  },
  {
   "cell_type": "code",
   "execution_count": 8,
   "id": "dabd8c16-b556-4d5c-a8de-d30815179679",
   "metadata": {},
   "outputs": [
    {
     "data": {
      "text/plain": [
       "a_o\n",
       "2002    7954\n",
       "2001    6463\n",
       "2000    5984\n",
       "2003    5914\n",
       "2004    4791\n",
       "        ... \n",
       "1967       2\n",
       "1971       2\n",
       "1959       2\n",
       "1957       2\n",
       "1956       1\n",
       "Name: count, Length: 74, dtype: int64"
      ]
     },
     "execution_count": 8,
     "metadata": {},
     "output_type": "execute_result"
    }
   ],
   "source": [
    "import pandas as pd\n",
    "import matplotlib.pyplot as plt\n",
    "\n",
    "# Supongamos que tu DataFrame ya está cargado como df\n",
    "por_anio = df['a_o'].value_counts()\n",
    "por_anio\n"
   ]
  },
  {
   "cell_type": "code",
   "execution_count": 5,
   "id": "8b7b7e37-713b-4443-946f-927d97ffc22f",
   "metadata": {},
   "outputs": [
    {
     "data": {
      "text/html": [
       "\n",
       "        <iframe\n",
       "            width=\"100%\"\n",
       "            height=\"650\"\n",
       "            src=\"http://127.0.0.1:8050/\"\n",
       "            frameborder=\"0\"\n",
       "            allowfullscreen\n",
       "            \n",
       "        ></iframe>\n",
       "        "
      ],
      "text/plain": [
       "<IPython.lib.display.IFrame at 0x1e91ef9a750>"
      ]
     },
     "metadata": {},
     "output_type": "display_data"
    }
   ],
   "source": [
    "import pandas as pd\n",
    "import plotly.express as px\n",
    "from dash import Dash, dcc, html, Input, Output\n",
    "\n",
    "# Suponiendo que df ya está definido\n",
    "df['a_o'] = pd.to_numeric(df['a_o'], errors='coerce')\n",
    "df_filtrado = df[(df['a_o'].notna()) & (df['a_o'] >= 1951)]\n",
    "por_anio = df_filtrado['a_o'].value_counts().sort_index()\n",
    "por_anio_df = por_anio.reset_index()\n",
    "por_anio_df.columns = ['a_o', 'cantidad']\n",
    "\n",
    "app = Dash(__name__)\n",
    "\n",
    "fig = px.bar(por_anio_df, x='a_o', y='cantidad',\n",
    "             title='Cantidad por Año desde 1951',\n",
    "             labels={'a_o': 'Año', 'cantidad': 'Cantidad'})\n",
    "\n",
    "# Desactivar el range slider para que no aparezca el gráfico pequeño\n",
    "fig.update_layout(xaxis=dict(rangeslider=dict(visible=False)))\n",
    "\n",
    "app.layout = html.Div([\n",
    "    dcc.Graph(id='bar-chart', figure=fig)\n",
    "])\n",
    "\n",
    "@app.callback(\n",
    "    Output('bar-chart', 'figure'),\n",
    "    Input('bar-chart', 'relayoutData')\n",
    ")\n",
    "def update_chart(relayoutData):\n",
    "    if relayoutData is None:\n",
    "        return fig\n",
    "\n",
    "    if 'xaxis.range[0]' in relayoutData and 'xaxis.range[1]' in relayoutData:\n",
    "        x_start = relayoutData['xaxis.range[0]']\n",
    "        x_end = relayoutData['xaxis.range[1]']\n",
    "\n",
    "        filtered = por_anio_df[(por_anio_df['a_o'] >= x_start) & (por_anio_df['a_o'] <= x_end)]\n",
    "\n",
    "        if filtered.empty:\n",
    "            return fig\n",
    "\n",
    "        new_fig = px.bar(filtered, x='a_o', y='cantidad',\n",
    "                         title=f'Cantidad por Año desde {int(x_start)} hasta {int(x_end)}',\n",
    "                         labels={'a_o': 'Año', 'cantidad': 'Cantidad'})\n",
    "\n",
    "        # Aquí también desactivar el rangeslider para no mostrar el gráfico pequeño\n",
    "        new_fig.update_layout(\n",
    "            xaxis=dict(range=[x_start, x_end], rangeslider=dict(visible=False)),\n",
    "            yaxis=dict(range=[0, filtered['cantidad'].max() * 1.1])\n",
    "        )\n",
    "        return new_fig\n",
    "\n",
    "    return fig\n",
    "\n",
    "if __name__ == '__main__':\n",
    "    app.run(debug=True)\n",
    "fig.write_html(\"cantidad_por_año.html\")"
   ]
  },
  {
   "cell_type": "code",
   "execution_count": 8,
   "id": "f50b5416-afd8-4499-a48a-d37a18464e1a",
   "metadata": {},
   "outputs": [
    {
     "data": {
      "image/png": "[encoded data removed]",
      "text/plain": [
       "<Figure size 1000x600 with 1 Axes>"
      ]
     },
     "metadata": {},
     "output_type": "display_data"
    }
   ],
   "source": [
    "import pandas as pd\n",
    "import matplotlib.pyplot as plt\n",
    "import seaborn as sns\n",
    "\n",
    "# Suponiendo que tu DataFrame se llama df\n",
    "top_departamentos = df['departamento'].value_counts().head(10)\n",
    "top_departamentos\n",
    "\n",
    "plt.figure(figsize=(10,6))\n",
    "sns.barplot(x=top_departamentos.values, y=top_departamentos.index, \n",
    "            palette='viridis', hue=top_departamentos.index, legend=False)\n",
    "plt.title('Top 10 Departamentos con más Casos de Desaparición Forzada')\n",
    "plt.xlabel('Número de Casos')\n",
    "plt.ylabel('Departamento')\n",
    "plt.tight_layout()\n",
    "plt.show()\n"
   ]
  },
  {
   "cell_type": "code",
   "execution_count": 22,
   "id": "f4a2d982-bda2-4aeb-ae03-047dbba3e416",
   "metadata": {},
   "outputs": [
    {
     "data": {
      "text/plain": [
       "departamento\n",
       "ANTIOQUIA             19824\n",
       "META                   5289\n",
       "VALLE DEL CAUCA        3937\n",
       "MAGDALENA              3906\n",
       "CESAR                  3762\n",
       "SANTANDER              3669\n",
       "SIN INFORMACION        3594\n",
       "CAQUETA                3306\n",
       "NORTE DE SANTANDER     2995\n",
       "PUTUMAYO               2960\n",
       "Name: count, dtype: int64"
      ]
     },
     "execution_count": 22,
     "metadata": {},
     "output_type": "execute_result"
    }
   ],
   "source": [
    "top_departamentos"
   ]
  },
  {
   "cell_type": "code",
   "execution_count": 29,
   "id": "82ed1830-93eb-4bea-a82d-374459023ad0",
   "metadata": {},
   "outputs": [
    {
     "name": "stdout",
     "output_type": "stream",
     "text": [
      "[nan 'GRUPO PARAMILITAR' 'AGENTE DEL ESTADO' 'GUERRILLA'\n",
      " 'AGENTE EXTRANJERO' 'GRUPO POSDESMOVILIZACIÓN']\n"
     ]
    }
   ],
   "source": [
    "valores_unicos = df['fuerza_o_grupo_armado'].unique()\n",
    "print(valores_unicos)\n"
   ]
  },
  {
   "cell_type": "code",
   "execution_count": null,
   "id": "4e6dfa14-600f-4231-898c-59b86faa4571",
   "metadata": {},
   "outputs": [],
   "source": []
  },
  {
   "cell_type": "code",
   "execution_count": null,
   "id": "52960568-aeb7-4659-a781-c35d8301effb",
   "metadata": {},
   "outputs": [],
   "source": [
    "coordenadas = df['latitud_longitud']\n",
    "print(coordenadas)"
   ]
  },
  {
   "cell_type": "code",
   "execution_count": 23,
   "id": "bae6b68e-7121-49a6-8037-bb080a9af701",
   "metadata": {},
   "outputs": [
    {
     "data": {
      "image/png": "[encoded data removed]",
      "text/plain": [
       "<Figure size 600x600 with 1 Axes>"
      ]
     },
     "metadata": {},
     "output_type": "display_data"
    }
   ],
   "source": [
    "sexo_counts = df['sexo'].value_counts()\n",
    "\n",
    "plt.figure(figsize=(6,6))\n",
    "plt.pie(sexo_counts.values, labels=sexo_counts.index, autopct='%1.1f%%', colors=sns.color_palette('pastel'))\n",
    "plt.title('Distribución por Sexo')\n",
    "plt.show()\n"
   ]
  },
  {
   "cell_type": "code",
   "execution_count": 61,
   "id": "8d1f818e-bafd-4c70-a570-e1c679e899b6",
   "metadata": {},
   "outputs": [
    {
     "data": {
      "image/png": "[encoded data removed]",
      "text/plain": [
       "<Figure size 1000x600 with 1 Axes>"
      ]
     },
     "metadata": {},
     "output_type": "display_data"
    }
   ],
   "source": [
    "plt.figure(figsize=(10,6))\n",
    "sns.barplot(x=top_grupos.values, y=top_grupos.index, color='red')\n",
    "plt.title('Top 100 Grupos Armados Involucrados')\n",
    "plt.xlabel('Número de Casos')\n",
    "plt.ylabel('Grupo Armado')\n",
    "plt.tight_layout()\n",
    "plt.show()\n"
   ]
  },
  {
   "cell_type": "code",
   "execution_count": 10,
   "id": "897cb266-bef1-4fd7-8df8-b8695a2a9142",
   "metadata": {},
   "outputs": [
    {
     "data": {
      "text/plain": [
       "Index(['id_caso', 'c_digo_dane_de_municipio', 'municipio', 'departamento',\n",
       "       'a_o', 'mes', 'd_a', 'id_persona', 'sexo', 'ocupaci_n',\n",
       "       'calidad_de_la_v_ctima_o_la', 'tipo_de_poblaci_n_vulnerable',\n",
       "       'situaci_n_actual_de_la_v', 'latitud_longitud',\n",
       "       'fuente_de_informaci_n_de', 'edad', 'militante_pol_tico',\n",
       "       'fuerza_o_grupo_armado', 'descripci_n_fuerza_o_grupo', 'etnia'],\n",
       "      dtype='object')"
      ]
     },
     "execution_count": 10,
     "metadata": {},
     "output_type": "execute_result"
    }
   ],
   "source": [
    "df.columns"
   ]
  },
  {
   "cell_type": "code",
   "execution_count": 27,
   "id": "f45abe50-a968-43e5-9560-26a05f23db77",
   "metadata": {},
   "outputs": [
    {
     "data": {
      "application/vnd.plotly.v1+json": {
       "config": {
        "plotlyServerURL": "https://plot.ly"
       },
       "data": [
        {
         "hovertemplate": "Departamento=%{x}<br>Número de Casos=%{y}<extra></extra>",
         "legendgroup": "",
         "marker": {
          "color": "#636efa",
          "pattern": {
           "shape": ""
          }
         },
         "name": "",
         "orientation": "v",
         "showlegend": false,
         "textposition": "auto",
         "type": "bar",
         "x": [
          "AMAZONAS",
          "ANTIOQUIA",
          "ARAUCA",
          "ATLANTICO",
          "BOGOTA, D. C.",
          "BOLIVAR",
          "BOYACA",
          "CALDAS",
          "CAQUETA",
          "CASANARE",
          "CAUCA",
          "CESAR",
          "CHOCO",
          "CORDOBA",
          "CUNDINAMARCA",
          "EXTERIOR",
          "GUAINIA",
          "GUAVIARE",
          "HUILA",
          "LA GUAJIRA",
          "MAGDALENA",
          "META",
          "NARIÑO",
          "NORTE DE SANTANDER",
          "PUTUMAYO",
          "QUINDIO",
          "RISARALDA",
          "SANTANDER",
          "SIN INFORMACION",
          "SUCRE",
          "TOLIMA",
          "VALLE DEL CAUCA",
          "VAUPES",
          "VICHADA"
         ],
         "xaxis": "x",
         "y": {
          "bdata": "AQCmAjMAEgAhADoAHgArAG4ALQBCAFMAHAAdAC4AAgABAC8AGQATAKYAlgBMAD0AUgAOABoAUAA4ByYANwBoAAIAEQA=",
          "dtype": "i2"
         },
         "yaxis": "y"
        }
       ],
       "frames": [
        {
         "data": [
          {
           "type": "bar",
           "x": [
            "AMAZONAS",
            "ANTIOQUIA",
            "ARAUCA",
            "ATLANTICO",
            "BOGOTA, D. C.",
            "BOLIVAR",
            "BOYACA",
            "CALDAS",
            "CAQUETA",
            "CASANARE",
            "CAUCA",
            "CESAR",
            "CHOCO",
            "CORDOBA",
            "CUNDINAMARCA",
            "EXTERIOR",
            "GUAINIA",
            "GUAVIARE",
            "HUILA",
            "LA GUAJIRA",
            "MAGDALENA",
            "META",
            "NARIÑO",
            "NORTE DE SANTANDER",
            "PUTUMAYO",
            "QUINDIO",
            "RISARALDA",
            "SANTANDER",
            "SIN INFORMACION",
            "SUCRE",
            "TOLIMA",
            "VALLE DEL CAUCA",
            "VAUPES",
            "VICHADA"
           ],
           "y": {
            "bdata": "AQCmAjMAEgAhADoAHgArAG4ALQBCAFMAHAAdAC4AAgABAC8AGQATAKYAlgBMAD0AUgAOABoAUAA4ByYANwBoAAIAEQA=",
            "dtype": "i2"
           }
          }
         ],
         "name": "0"
        },
        {
         "data": [
          {
           "type": "bar",
           "x": [
            "CUNDINAMARCA"
           ],
           "y": {
            "bdata": "BA==",
            "dtype": "i1"
           }
          }
         ],
         "name": "1948"
        },
        {
         "data": [
          {
           "type": "bar",
           "x": [
            "BOYACA",
            "TOLIMA"
           ],
           "y": {
            "bdata": "CAU=",
            "dtype": "i1"
           }
          }
         ],
         "name": "1951"
        },
        {
         "data": [
          {
           "type": "bar",
           "x": [
            "TOLIMA"
           ],
           "y": {
            "bdata": "Aw==",
            "dtype": "i1"
           }
          }
         ],
         "name": "1952"
        },
        {
         "data": [
          {
           "type": "bar",
           "x": [
            "TOLIMA"
           ],
           "y": {
            "bdata": "Dg==",
            "dtype": "i1"
           }
          }
         ],
         "name": "1954"
        },
        {
         "data": [
          {
           "type": "bar",
           "x": [
            "TOLIMA"
           ],
           "y": {
            "bdata": "Cg==",
            "dtype": "i1"
           }
          }
         ],
         "name": "1955"
        },
        {
         "data": [
          {
           "type": "bar",
           "x": [
            "TOLIMA"
           ],
           "y": {
            "bdata": "AQ==",
            "dtype": "i1"
           }
          }
         ],
         "name": "1956"
        },
        {
         "data": [
          {
           "type": "bar",
           "x": [
            "HUILA"
           ],
           "y": {
            "bdata": "Ag==",
            "dtype": "i1"
           }
          }
         ],
         "name": "1957"
        },
        {
         "data": [
          {
           "type": "bar",
           "x": [
            "HUILA",
            "QUINDIO",
            "RISARALDA",
            "TOLIMA",
            "VALLE DEL CAUCA"
           ],
           "y": {
            "bdata": "AQEBCAE=",
            "dtype": "i1"
           }
          }
         ],
         "name": "1958"
        },
        {
         "data": [
          {
           "type": "bar",
           "x": [
            "BOGOTA, D. C.",
            "CUNDINAMARCA"
           ],
           "y": {
            "bdata": "AQE=",
            "dtype": "i1"
           }
          }
         ],
         "name": "1959"
        },
        {
         "data": [
          {
           "type": "bar",
           "x": [
            "HUILA",
            "TOLIMA",
            "VALLE DEL CAUCA"
           ],
           "y": {
            "bdata": "AgEB",
            "dtype": "i1"
           }
          }
         ],
         "name": "1960"
        },
        {
         "data": [
          {
           "type": "bar",
           "x": [
            "BOGOTA, D. C.",
            "BOYACA",
            "CUNDINAMARCA",
            "HUILA",
            "META",
            "SIN INFORMACION",
            "TOLIMA"
           ],
           "y": {
            "bdata": "AQEBBAMDAw==",
            "dtype": "i1"
           }
          }
         ],
         "name": "1961"
        },
        {
         "data": [
          {
           "type": "bar",
           "x": [
            "ANTIOQUIA",
            "BOYACA",
            "VALLE DEL CAUCA"
           ],
           "y": {
            "bdata": "CQEB",
            "dtype": "i1"
           }
          }
         ],
         "name": "1962"
        },
        {
         "data": [
          {
           "type": "bar",
           "x": [
            "CESAR",
            "QUINDIO",
            "SIN INFORMACION",
            "TOLIMA"
           ],
           "y": {
            "bdata": "AQEBAg==",
            "dtype": "i1"
           }
          }
         ],
         "name": "1963"
        },
        {
         "data": [
          {
           "type": "bar",
           "x": [
            "ANTIOQUIA",
            "CAUCA",
            "QUINDIO",
            "SIN INFORMACION"
           ],
           "y": {
            "bdata": "AQEBBQ==",
            "dtype": "i1"
           }
          }
         ],
         "name": "1964"
        },
        {
         "data": [
          {
           "type": "bar",
           "x": [
            "ANTIOQUIA",
            "ATLANTICO",
            "CESAR",
            "CORDOBA",
            "CUNDINAMARCA",
            "HUILA",
            "MAGDALENA",
            "SIN INFORMACION"
           ],
           "y": {
            "bdata": "FgMBAQECAQM=",
            "dtype": "i1"
           }
          }
         ],
         "name": "1965"
        },
        {
         "data": [
          {
           "type": "bar",
           "x": [
            "ANTIOQUIA",
            "CAUCA",
            "CORDOBA",
            "HUILA",
            "PUTUMAYO",
            "TOLIMA",
            "VALLE DEL CAUCA"
           ],
           "y": {
            "bdata": "BgEBAwIBAg==",
            "dtype": "i1"
           }
          }
         ],
         "name": "1966"
        },
        {
         "data": [
          {
           "type": "bar",
           "x": [
            "ANTIOQUIA",
            "SIN INFORMACION"
           ],
           "y": {
            "bdata": "AQE=",
            "dtype": "i1"
           }
          }
         ],
         "name": "1967"
        },
        {
         "data": [
          {
           "type": "bar",
           "x": [
            "ANTIOQUIA",
            "BOYACA",
            "CALDAS",
            "SIN INFORMACION",
            "TOLIMA"
           ],
           "y": {
            "bdata": "AQEIBAE=",
            "dtype": "i1"
           }
          }
         ],
         "name": "1968"
        },
        {
         "data": [
          {
           "type": "bar",
           "x": [
            "CAQUETA",
            "HUILA",
            "SIN INFORMACION"
           ],
           "y": {
            "bdata": "AwED",
            "dtype": "i1"
           }
          }
         ],
         "name": "1969"
        },
        {
         "data": [
          {
           "type": "bar",
           "x": [
            "ANTIOQUIA",
            "BOGOTA, D. C.",
            "CAQUETA",
            "CAUCA",
            "META",
            "TOLIMA"
           ],
           "y": {
            "bdata": "CAMBAQEB",
            "dtype": "i1"
           }
          }
         ],
         "name": "1970"
        },
        {
         "data": [
          {
           "type": "bar",
           "x": [
            "PUTUMAYO",
            "TOLIMA"
           ],
           "y": {
            "bdata": "AQE=",
            "dtype": "i1"
           }
          }
         ],
         "name": "1971"
        },
        {
         "data": [
          {
           "type": "bar",
           "x": [
            "CUNDINAMARCA",
            "HUILA",
            "META",
            "VALLE DEL CAUCA"
           ],
           "y": {
            "bdata": "AQEBAQ==",
            "dtype": "i1"
           }
          }
         ],
         "name": "1972"
        },
        {
         "data": [
          {
           "type": "bar",
           "x": [
            "ANTIOQUIA",
            "CAUCA",
            "CHOCO",
            "SANTANDER",
            "SIN INFORMACION",
            "VALLE DEL CAUCA"
           ],
           "y": {
            "bdata": "BwQBAQEB",
            "dtype": "i1"
           }
          }
         ],
         "name": "1973"
        },
        {
         "data": [
          {
           "type": "bar",
           "x": [
            "ANTIOQUIA",
            "ARAUCA",
            "BOGOTA, D. C.",
            "CORDOBA",
            "CUNDINAMARCA",
            "MAGDALENA",
            "SIN INFORMACION"
           ],
           "y": {
            "bdata": "BQEBAREBAQ==",
            "dtype": "i1"
           }
          }
         ],
         "name": "1974"
        },
        {
         "data": [
          {
           "type": "bar",
           "x": [
            "ANTIOQUIA",
            "ATLANTICO",
            "BOLIVAR",
            "BOYACA",
            "CAQUETA",
            "CAUCA",
            "CESAR",
            "CORDOBA",
            "LA GUAJIRA",
            "META",
            "SANTANDER",
            "SIN INFORMACION",
            "VALLE DEL CAUCA"
           ],
           "y": {
            "bdata": "AwgEAwEBAgEBAQMCAQ==",
            "dtype": "i1"
           }
          }
         ],
         "name": "1975"
        },
        {
         "data": [
          {
           "type": "bar",
           "x": [
            "ANTIOQUIA",
            "BOGOTA, D. C.",
            "CALDAS",
            "CAQUETA",
            "CAUCA",
            "META",
            "SANTANDER",
            "VALLE DEL CAUCA"
           ],
           "y": {
            "bdata": "CQIBAQEBAgE=",
            "dtype": "i1"
           }
          }
         ],
         "name": "1976"
        },
        {
         "data": [
          {
           "type": "bar",
           "x": [
            "ANTIOQUIA",
            "ARAUCA",
            "ATLANTICO",
            "CALDAS",
            "CAQUETA",
            "CAUCA",
            "CUNDINAMARCA",
            "META",
            "NARIÑO",
            "SANTANDER",
            "SIN INFORMACION",
            "SUCRE",
            "VALLE DEL CAUCA"
           ],
           "y": {
            "bdata": "BwEBAQIDAgEBAwcBAQ==",
            "dtype": "i1"
           }
          }
         ],
         "name": "1977"
        },
        {
         "data": [
          {
           "type": "bar",
           "x": [
            "ANTIOQUIA",
            "BOGOTA, D. C.",
            "BOYACA",
            "CAQUETA",
            "CAUCA",
            "CORDOBA",
            "CUNDINAMARCA",
            "HUILA",
            "META",
            "NORTE DE SANTANDER",
            "RISARALDA",
            "SANTANDER",
            "SIN INFORMACION",
            "VALLE DEL CAUCA"
           ],
           "y": {
            "bdata": "DwgBBAEDAgIBAQEFBQI=",
            "dtype": "i1"
           }
          }
         ],
         "name": "1978"
        },
        {
         "data": [
          {
           "type": "bar",
           "x": [
            "ANTIOQUIA",
            "ARAUCA",
            "ATLANTICO",
            "BOGOTA, D. C.",
            "BOLIVAR",
            "BOYACA",
            "CALDAS",
            "CAQUETA",
            "CASANARE",
            "CAUCA",
            "CESAR",
            "CHOCO",
            "CORDOBA",
            "CUNDINAMARCA",
            "HUILA",
            "MAGDALENA",
            "META",
            "PUTUMAYO",
            "RISARALDA",
            "SANTANDER",
            "SIN INFORMACION",
            "TOLIMA",
            "VALLE DEL CAUCA"
           ],
           "y": {
            "bdata": "EwEBBQIEBBcBCAECBAQBAwMBAQ8BAgU=",
            "dtype": "i1"
           }
          }
         ],
         "name": "1979"
        },
        {
         "data": [
          {
           "type": "bar",
           "x": [
            "ANTIOQUIA",
            "ARAUCA",
            "ATLANTICO",
            "BOGOTA, D. C.",
            "BOLIVAR",
            "BOYACA",
            "CAQUETA",
            "CAUCA",
            "CORDOBA",
            "CUNDINAMARCA",
            "EXTERIOR",
            "GUAVIARE",
            "LA GUAJIRA",
            "MAGDALENA",
            "META",
            "QUINDIO",
            "RISARALDA",
            "SANTANDER",
            "SIN INFORMACION",
            "SUCRE",
            "TOLIMA",
            "VALLE DEL CAUCA"
           ],
           "y": {
            "bdata": "GAEBAgEBCwEBAgECAQIEAgICAwEBBQ==",
            "dtype": "i1"
           }
          }
         ],
         "name": "1980"
        },
        {
         "data": [
          {
           "type": "bar",
           "x": [
            "ANTIOQUIA",
            "ARAUCA",
            "ATLANTICO",
            "BOLIVAR",
            "BOYACA",
            "CALDAS",
            "CAQUETA",
            "CAUCA",
            "CESAR",
            "CHOCO",
            "CORDOBA",
            "CUNDINAMARCA",
            "GUAVIARE",
            "HUILA",
            "LA GUAJIRA",
            "MAGDALENA",
            "META",
            "NARIÑO",
            "NORTE DE SANTANDER",
            "PUTUMAYO",
            "RISARALDA",
            "SANTANDER",
            "SIN INFORMACION",
            "TOLIMA",
            "VALLE DEL CAUCA"
           ],
           "y": {
            "bdata": "CwMBBAECOwMBAgcEAggCBA8CAQICFA0DBg==",
            "dtype": "i1"
           }
          }
         ],
         "name": "1981"
        },
        {
         "data": [
          {
           "type": "bar",
           "x": [
            "ANTIOQUIA",
            "ARAUCA",
            "ATLANTICO",
            "BOGOTA, D. C.",
            "BOLIVAR",
            "BOYACA",
            "CALDAS",
            "CAQUETA",
            "CAUCA",
            "CESAR",
            "CHOCO",
            "CORDOBA",
            "CUNDINAMARCA",
            "GUAVIARE",
            "HUILA",
            "META",
            "NARIÑO",
            "NORTE DE SANTANDER",
            "PUTUMAYO",
            "RISARALDA",
            "SANTANDER",
            "SIN INFORMACION",
            "SUCRE",
            "TOLIMA",
            "VALLE DEL CAUCA"
           ],
           "y": {
            "bdata": "QQgCHQIIAh8DDgIFAgwDBgEBAwEfHgICDQ==",
            "dtype": "i1"
           }
          }
         ],
         "name": "1982"
        },
        {
         "data": [
          {
           "type": "bar",
           "x": [
            "ANTIOQUIA",
            "ARAUCA",
            "BOGOTA, D. C.",
            "BOLIVAR",
            "BOYACA",
            "CALDAS",
            "CAQUETA",
            "CAUCA",
            "CESAR",
            "CHOCO",
            "CORDOBA",
            "CUNDINAMARCA",
            "GUAVIARE",
            "HUILA",
            "LA GUAJIRA",
            "MAGDALENA",
            "META",
            "NARIÑO",
            "NORTE DE SANTANDER",
            "PUTUMAYO",
            "RISARALDA",
            "SANTANDER",
            "SIN INFORMACION",
            "TOLIMA",
            "VALLE DEL CAUCA"
           ],
           "y": {
            "bdata": "VQwLAgUGFw0EAw8ZBBABBAsDAwQDHAsGBg==",
            "dtype": "i1"
           }
          }
         ],
         "name": "1983"
        },
        {
         "data": [
          {
           "type": "bar",
           "x": [
            "ANTIOQUIA",
            "ARAUCA",
            "ATLANTICO",
            "BOGOTA, D. C.",
            "BOLIVAR",
            "BOYACA",
            "CALDAS",
            "CAQUETA",
            "CASANARE",
            "CAUCA",
            "CESAR",
            "CHOCO",
            "CORDOBA",
            "CUNDINAMARCA",
            "EXTERIOR",
            "GUAVIARE",
            "HUILA",
            "LA GUAJIRA",
            "MAGDALENA",
            "META",
            "NARIÑO",
            "NORTE DE SANTANDER",
            "PUTUMAYO",
            "QUINDIO",
            "SANTANDER",
            "SIN INFORMACION",
            "TOLIMA",
            "VALLE DEL CAUCA",
            "VAUPES",
            "VICHADA"
           ],
           "y": {
            "bdata": "PSABCAQSBSUCCQQBAhIBBAkBAgkCAwICJRUGDwEB",
            "dtype": "i1"
           }
          }
         ],
         "name": "1984"
        },
        {
         "data": [
          {
           "type": "bar",
           "x": [
            "ANTIOQUIA",
            "ARAUCA",
            "ATLANTICO",
            "BOGOTA, D. C.",
            "BOLIVAR",
            "BOYACA",
            "CALDAS",
            "CAQUETA",
            "CASANARE",
            "CAUCA",
            "CESAR",
            "CHOCO",
            "CORDOBA",
            "CUNDINAMARCA",
            "GUAINIA",
            "GUAVIARE",
            "HUILA",
            "LA GUAJIRA",
            "MAGDALENA",
            "META",
            "NARIÑO",
            "NORTE DE SANTANDER",
            "PUTUMAYO",
            "QUINDIO",
            "RISARALDA",
            "SANTANDER",
            "SIN INFORMACION",
            "TOLIMA",
            "VALLE DEL CAUCA",
            "VICHADA"
           ],
           "y": {
            "bdata": "d0UBMAUKBTsDIQ0IDA4BEBACCyAFCBABBU0mD0cD",
            "dtype": "i1"
           }
          }
         ],
         "name": "1985"
        },
        {
         "data": [
          {
           "type": "bar",
           "x": [
            "ANTIOQUIA",
            "ARAUCA",
            "ATLANTICO",
            "BOGOTA, D. C.",
            "BOLIVAR",
            "BOYACA",
            "CALDAS",
            "CAQUETA",
            "CASANARE",
            "CAUCA",
            "CESAR",
            "CHOCO",
            "CORDOBA",
            "CUNDINAMARCA",
            "GUAVIARE",
            "HUILA",
            "LA GUAJIRA",
            "MAGDALENA",
            "META",
            "NARIÑO",
            "NORTE DE SANTANDER",
            "PUTUMAYO",
            "QUINDIO",
            "RISARALDA",
            "SANTANDER",
            "SIN INFORMACION",
            "SUCRE",
            "TOLIMA",
            "VALLE DEL CAUCA",
            "VAUPES",
            "VICHADA"
           ],
           "y": {
            "bdata": "4QBOAAQAIwASADMAEAAuAAUAJQAVABAALwAWACAAEgABABwARAAEABYAHwADAAEAoAAaAAIAFgBEAAEAEQA=",
            "dtype": "i2"
           }
          }
         ],
         "name": "1986"
        },
        {
         "data": [
          {
           "type": "bar",
           "x": [
            "AMAZONAS",
            "ANTIOQUIA",
            "ARAUCA",
            "ATLANTICO",
            "BOGOTA, D. C.",
            "BOLIVAR",
            "BOYACA",
            "CALDAS",
            "CAQUETA",
            "CASANARE",
            "CAUCA",
            "CESAR",
            "CHOCO",
            "CORDOBA",
            "CUNDINAMARCA",
            "GUAINIA",
            "GUAVIARE",
            "HUILA",
            "LA GUAJIRA",
            "MAGDALENA",
            "META",
            "NARIÑO",
            "NORTE DE SANTANDER",
            "PUTUMAYO",
            "QUINDIO",
            "RISARALDA",
            "SANTANDER",
            "SIN INFORMACION",
            "SUCRE",
            "TOLIMA",
            "VALLE DEL CAUCA",
            "VICHADA"
           ],
           "y": {
            "bdata": "AQAVATMABQARAAkAIwAQAD8ACQAtACQAEAA3ABAAAgAXACgAAgAlAEkABQASABkAAgAGAH0AIAAIABEAKQADAA==",
            "dtype": "i2"
           }
          }
         ],
         "name": "1987"
        },
        {
         "data": [
          {
           "type": "bar",
           "x": [
            "AMAZONAS",
            "ANTIOQUIA",
            "ARAUCA",
            "ATLANTICO",
            "BOGOTA, D. C.",
            "BOLIVAR",
            "BOYACA",
            "CALDAS",
            "CAQUETA",
            "CASANARE",
            "CAUCA",
            "CESAR",
            "CHOCO",
            "CORDOBA",
            "CUNDINAMARCA",
            "GUAINIA",
            "GUAVIARE",
            "HUILA",
            "LA GUAJIRA",
            "MAGDALENA",
            "META",
            "NARIÑO",
            "NORTE DE SANTANDER",
            "PUTUMAYO",
            "QUINDIO",
            "RISARALDA",
            "SANTANDER",
            "SIN INFORMACION",
            "SUCRE",
            "TOLIMA",
            "VALLE DEL CAUCA",
            "VAUPES",
            "VICHADA"
           ],
           "y": {
            "bdata": "BACNASAABQAuABQAGwAfAC4ACAAhACsACAC0ABcAAgATABoABgAlAFgADAAeACAABAANANIAKgASAA8AMQACAAcA",
            "dtype": "i2"
           }
          }
         ],
         "name": "1988"
        },
        {
         "data": [
          {
           "type": "bar",
           "x": [
            "AMAZONAS",
            "ANTIOQUIA",
            "ARAUCA",
            "ATLANTICO",
            "BOGOTA, D. C.",
            "BOLIVAR",
            "BOYACA",
            "CALDAS",
            "CAQUETA",
            "CASANARE",
            "CAUCA",
            "CESAR",
            "CHOCO",
            "CORDOBA",
            "CUNDINAMARCA",
            "GUAINIA",
            "GUAVIARE",
            "HUILA",
            "LA GUAJIRA",
            "MAGDALENA",
            "META",
            "NARIÑO",
            "NORTE DE SANTANDER",
            "PUTUMAYO",
            "QUINDIO",
            "RISARALDA",
            "SANTANDER",
            "SIN INFORMACION",
            "SUCRE",
            "TOLIMA",
            "VALLE DEL CAUCA",
            "VICHADA"
           ],
           "y": {
            "bdata": "AgByATwABgAZABsAIAAlACgAAQANADUAEADAABMAAQARABAABgAsAFoADgAlAD4ABQATAH4AKQALACwAagACAA==",
            "dtype": "i2"
           }
          }
         ],
         "name": "1989"
        },
        {
         "data": [
          {
           "type": "bar",
           "x": [
            "ANTIOQUIA",
            "ARAUCA",
            "ATLANTICO",
            "BOGOTA, D. C.",
            "BOLIVAR",
            "BOYACA",
            "CALDAS",
            "CAQUETA",
            "CASANARE",
            "CAUCA",
            "CESAR",
            "CHOCO",
            "CORDOBA",
            "CUNDINAMARCA",
            "GUAVIARE",
            "HUILA",
            "LA GUAJIRA",
            "MAGDALENA",
            "META",
            "NARIÑO",
            "NORTE DE SANTANDER",
            "PUTUMAYO",
            "QUINDIO",
            "RISARALDA",
            "SANTANDER",
            "SIN INFORMACION",
            "SUCRE",
            "TOLIMA",
            "VALLE DEL CAUCA",
            "VICHADA"
           ],
           "y": {
            "bdata": "CAI2AAoAKwBIADkAGwAtABEAKgA3ACsAnwAfAB4AHgALAC0AZwAKAD4AOwAEAA0AjAAhAAwAFQCgAAQA",
            "dtype": "i2"
           }
          }
         ],
         "name": "1990"
        },
        {
         "data": [
          {
           "type": "bar",
           "x": [
            "ANTIOQUIA",
            "ARAUCA",
            "ATLANTICO",
            "BOGOTA, D. C.",
            "BOLIVAR",
            "BOYACA",
            "CALDAS",
            "CAQUETA",
            "CASANARE",
            "CAUCA",
            "CESAR",
            "CHOCO",
            "CORDOBA",
            "CUNDINAMARCA",
            "EXTERIOR",
            "GUAINIA",
            "GUAVIARE",
            "HUILA",
            "LA GUAJIRA",
            "MAGDALENA",
            "META",
            "NARIÑO",
            "NORTE DE SANTANDER",
            "PUTUMAYO",
            "QUINDIO",
            "RISARALDA",
            "SANTANDER",
            "SIN INFORMACION",
            "SUCRE",
            "TOLIMA",
            "VALLE DEL CAUCA",
            "VICHADA"
           ],
           "y": {
            "bdata": "twEmAA8AKAAiAC8AFAAlAAYAJABDAAoAPwAWAAQAAQATABMAFAA0AH0ACgA9ACEADQAHAIUAJAASABwAkwAIAA==",
            "dtype": "i2"
           }
          }
         ],
         "name": "1991"
        },
        {
         "data": [
          {
           "type": "bar",
           "x": [
            "ANTIOQUIA",
            "ARAUCA",
            "ATLANTICO",
            "BOGOTA, D. C.",
            "BOLIVAR",
            "BOYACA",
            "CALDAS",
            "CAQUETA",
            "CASANARE",
            "CAUCA",
            "CESAR",
            "CHOCO",
            "CORDOBA",
            "CUNDINAMARCA",
            "GUAVIARE",
            "HUILA",
            "LA GUAJIRA",
            "MAGDALENA",
            "META",
            "NARIÑO",
            "NORTE DE SANTANDER",
            "PUTUMAYO",
            "QUINDIO",
            "RISARALDA",
            "SANTANDER",
            "SIN INFORMACION",
            "SUCRE",
            "TOLIMA",
            "VALLE DEL CAUCA",
            "VAUPES",
            "VICHADA"
           ],
           "y": {
            "bdata": "1gEZABIAIAA9ACgAIwAaABUARAA9AAoAQAAlABEAEgAUAEIAjwAMACAAHgAMAAwAgQAcABkAIgBgAAEACgA=",
            "dtype": "i2"
           }
          }
         ],
         "name": "1992"
        },
        {
         "data": [
          {
           "type": "bar",
           "x": [
            "ANTIOQUIA",
            "ARAUCA",
            "ATLANTICO",
            "BOGOTA, D. C.",
            "BOLIVAR",
            "BOYACA",
            "CALDAS",
            "CAQUETA",
            "CASANARE",
            "CAUCA",
            "CESAR",
            "CHOCO",
            "CORDOBA",
            "CUNDINAMARCA",
            "EXTERIOR",
            "GUAINIA",
            "GUAVIARE",
            "HUILA",
            "LA GUAJIRA",
            "MAGDALENA",
            "META",
            "NARIÑO",
            "NORTE DE SANTANDER",
            "PUTUMAYO",
            "QUINDIO",
            "RISARALDA",
            "SANTANDER",
            "SIN INFORMACION",
            "SUCRE",
            "TOLIMA",
            "VALLE DEL CAUCA",
            "VICHADA"
           ],
           "y": {
            "bdata": "+AEnAAMAFwAdACEAEAAjAAsAGQBDABAARQAaAAQAAQAWABgAHgBKAIwAFQAnACUABgANAHUAHAASAB0AYgACAA==",
            "dtype": "i2"
           }
          }
         ],
         "name": "1993"
        },
        {
         "data": [
          {
           "type": "bar",
           "x": [
            "ANTIOQUIA",
            "ARAUCA",
            "ATLANTICO",
            "BOGOTA, D. C.",
            "BOLIVAR",
            "BOYACA",
            "CALDAS",
            "CAQUETA",
            "CASANARE",
            "CAUCA",
            "CESAR",
            "CHOCO",
            "CORDOBA",
            "CUNDINAMARCA",
            "GUAINIA",
            "GUAVIARE",
            "HUILA",
            "LA GUAJIRA",
            "MAGDALENA",
            "META",
            "NARIÑO",
            "NORTE DE SANTANDER",
            "PUTUMAYO",
            "QUINDIO",
            "RISARALDA",
            "SANTANDER",
            "SIN INFORMACION",
            "SUCRE",
            "TOLIMA",
            "VALLE DEL CAUCA",
            "VAUPES",
            "VICHADA"
           ],
           "y": {
            "bdata": "rwIiACIAMQArABUAGQAqAAUAJgA6ABcAfwASAAEAGAANAA0AMgCPABQAHwAwAAsAFwBmACwADQAgAE4AAQANAA==",
            "dtype": "i2"
           }
          }
         ],
         "name": "1994"
        },
        {
         "data": [
          {
           "type": "bar",
           "x": [
            "ANTIOQUIA",
            "ARAUCA",
            "ATLANTICO",
            "BOGOTA, D. C.",
            "BOLIVAR",
            "BOYACA",
            "CALDAS",
            "CAQUETA",
            "CASANARE",
            "CAUCA",
            "CESAR",
            "CHOCO",
            "CORDOBA",
            "CUNDINAMARCA",
            "EXTERIOR",
            "GUAINIA",
            "GUAVIARE",
            "HUILA",
            "LA GUAJIRA",
            "MAGDALENA",
            "META",
            "NARIÑO",
            "NORTE DE SANTANDER",
            "PUTUMAYO",
            "QUINDIO",
            "RISARALDA",
            "SANTANDER",
            "SIN INFORMACION",
            "SUCRE",
            "TOLIMA",
            "VALLE DEL CAUCA",
            "VICHADA"
           ],
           "y": {
            "bdata": "awMuAAsADgA8ABsAIQA1ABgAGwB5ADIAcgAVABkAAQA+ABUADQAxAHMAFQAoAFAACQAPAG8ANQAXADAAQwAIAA==",
            "dtype": "i2"
           }
          }
         ],
         "name": "1995"
        },
        {
         "data": [
          {
           "type": "bar",
           "x": [
            "ANTIOQUIA",
            "ARAUCA",
            "ATLANTICO",
            "BOGOTA, D. C.",
            "BOLIVAR",
            "BOYACA",
            "CALDAS",
            "CAQUETA",
            "CASANARE",
            "CAUCA",
            "CESAR",
            "CHOCO",
            "CORDOBA",
            "CUNDINAMARCA",
            "GUAINIA",
            "GUAVIARE",
            "HUILA",
            "LA GUAJIRA",
            "MAGDALENA",
            "META",
            "NARIÑO",
            "NORTE DE SANTANDER",
            "PUTUMAYO",
            "QUINDIO",
            "RISARALDA",
            "SANTANDER",
            "SIN INFORMACION",
            "SUCRE",
            "TOLIMA",
            "VALLE DEL CAUCA",
            "VAUPES",
            "VICHADA"
           ],
           "y": {
            "bdata": "sQQ6ACAAFgBIABIAGwA+ABcAGADQAI4AdwA4AAIANAAPABQAaQB2ABgALQA9AAcAFQBwADUAHwAoADsAAQADAA==",
            "dtype": "i2"
           }
          }
         ],
         "name": "1996"
        },
        {
         "data": [
          {
           "type": "bar",
           "x": [
            "AMAZONAS",
            "ANTIOQUIA",
            "ARAUCA",
            "ATLANTICO",
            "BOGOTA, D. C.",
            "BOLIVAR",
            "BOYACA",
            "CALDAS",
            "CAQUETA",
            "CASANARE",
            "CAUCA",
            "CESAR",
            "CHOCO",
            "CORDOBA",
            "CUNDINAMARCA",
            "EXTERIOR",
            "GUAINIA",
            "GUAVIARE",
            "HUILA",
            "LA GUAJIRA",
            "MAGDALENA",
            "META",
            "NARIÑO",
            "NORTE DE SANTANDER",
            "PUTUMAYO",
            "QUINDIO",
            "RISARALDA",
            "SANTANDER",
            "SIN INFORMACION",
            "SUCRE",
            "TOLIMA",
            "VALLE DEL CAUCA",
            "VAUPES",
            "VICHADA"
           ],
           "y": {
            "bdata": "AQBtBDEAFAAUAH8AGwAnAIIAHgAZANoAKAFpACsAAgABADIADQAQAJ8AuwASADYAXQAGAA4AbwBXAEAAJAAtAAIABgA=",
            "dtype": "i2"
           }
          }
         ],
         "name": "1997"
        },
        {
         "data": [
          {
           "type": "bar",
           "x": [
            "ANTIOQUIA",
            "ARAUCA",
            "ATLANTICO",
            "BOGOTA, D. C.",
            "BOLIVAR",
            "BOYACA",
            "CALDAS",
            "CAQUETA",
            "CASANARE",
            "CAUCA",
            "CESAR",
            "CHOCO",
            "CORDOBA",
            "CUNDINAMARCA",
            "GUAVIARE",
            "HUILA",
            "LA GUAJIRA",
            "MAGDALENA",
            "META",
            "NARIÑO",
            "NORTE DE SANTANDER",
            "PUTUMAYO",
            "QUINDIO",
            "RISARALDA",
            "SANTANDER",
            "SIN INFORMACION",
            "SUCRE",
            "TOLIMA",
            "VALLE DEL CAUCA",
            "VAUPES",
            "VICHADA"
           ],
           "y": {
            "bdata": "dgQzAA8AJACGADEANQDIACsAKAC9AEwAhQA4AGcAFwAiALwA6wAfAEAAfwAJABQAvwBcACUALgA8AA4ACwA=",
            "dtype": "i2"
           }
          }
         ],
         "name": "1998"
        },
        {
         "data": [
          {
           "type": "bar",
           "x": [
            "AMAZONAS",
            "ANTIOQUIA",
            "ARAUCA",
            "ATLANTICO",
            "BOGOTA, D. C.",
            "BOLIVAR",
            "BOYACA",
            "CALDAS",
            "CAQUETA",
            "CASANARE",
            "CAUCA",
            "CESAR",
            "CHOCO",
            "CORDOBA",
            "CUNDINAMARCA",
            "GUAINIA",
            "GUAVIARE",
            "HUILA",
            "LA GUAJIRA",
            "MAGDALENA",
            "META",
            "NARIÑO",
            "NORTE DE SANTANDER",
            "PUTUMAYO",
            "QUINDIO",
            "RISARALDA",
            "SANTANDER",
            "SIN INFORMACION",
            "SUCRE",
            "TOLIMA",
            "VALLE DEL CAUCA",
            "VAUPES",
            "VICHADA"
           ],
           "y": {
            "bdata": "AgAQBEYAEgAaAP4AKgBQAJ0APAAuAMEAPwChAD0AAQA2AB0AKgAOAfwAMAA1AdEACgASALIAYQAiAFUAigADAAsA",
            "dtype": "i2"
           }
          }
         ],
         "name": "1999"
        },
        {
         "data": [
          {
           "type": "bar",
           "x": [
            "ANTIOQUIA",
            "ARAUCA",
            "ATLANTICO",
            "BOGOTA, D. C.",
            "BOLIVAR",
            "BOYACA",
            "CALDAS",
            "CAQUETA",
            "CASANARE",
            "CAUCA",
            "CESAR",
            "CHOCO",
            "CORDOBA",
            "CUNDINAMARCA",
            "GUAINIA",
            "GUAVIARE",
            "HUILA",
            "LA GUAJIRA",
            "MAGDALENA",
            "META",
            "NARIÑO",
            "NORTE DE SANTANDER",
            "PUTUMAYO",
            "QUINDIO",
            "RISARALDA",
            "SANTANDER",
            "SIN INFORMACION",
            "SUCRE",
            "TOLIMA",
            "VALLE DEL CAUCA",
            "VAUPES",
            "VICHADA"
           ],
           "y": {
            "bdata": "ggU7ACYAMACzAU8AjAC9AFEAcgBnAT4AqABgAAIAWwAeAC4AnAEtAWoAfAGeAREAMQDuAGYAUgB6AB4BBQAXAA==",
            "dtype": "i2"
           }
          }
         ],
         "name": "2000"
        },
        {
         "data": [
          {
           "type": "bar",
           "x": [
            "AMAZONAS",
            "ANTIOQUIA",
            "ARAUCA",
            "ATLANTICO",
            "BOGOTA, D. C.",
            "BOLIVAR",
            "BOYACA",
            "CALDAS",
            "CAQUETA",
            "CASANARE",
            "CAUCA",
            "CESAR",
            "CHOCO",
            "CORDOBA",
            "CUNDINAMARCA",
            "EXTERIOR",
            "GUAINIA",
            "GUAVIARE",
            "HUILA",
            "LA GUAJIRA",
            "MAGDALENA",
            "META",
            "NARIÑO",
            "NORTE DE SANTANDER",
            "PUTUMAYO",
            "QUINDIO",
            "RISARALDA",
            "SANTANDER",
            "SIN INFORMACION",
            "SUCRE",
            "TOLIMA",
            "VALLE DEL CAUCA",
            "VAUPES",
            "VICHADA"
           ],
           "y": {
            "bdata": "AgA5BUgAPABAADIBWADbABIB0QCpAGEBWAC+AF4AAwAEAF4ALQA0ANgBYQHeAG0BIAEPADQAXQF+AFoAtADQAAgADAA=",
            "dtype": "i2"
           }
          }
         ],
         "name": "2001"
        },
        {
         "data": [
          {
           "type": "bar",
           "x": [
            "AMAZONAS",
            "ANTIOQUIA",
            "ARAUCA",
            "ATLANTICO",
            "BOGOTA, D. C.",
            "BOLIVAR",
            "BOYACA",
            "CALDAS",
            "CAQUETA",
            "CASANARE",
            "CAUCA",
            "CESAR",
            "CHOCO",
            "CORDOBA",
            "CUNDINAMARCA",
            "EXTERIOR",
            "GUAINIA",
            "GUAVIARE",
            "HUILA",
            "LA GUAJIRA",
            "MAGDALENA",
            "META",
            "NARIÑO",
            "NORTE DE SANTANDER",
            "PUTUMAYO",
            "QUINDIO",
            "RISARALDA",
            "SANTANDER",
            "SIN INFORMACION",
            "SUCRE",
            "TOLIMA",
            "VALLE DEL CAUCA",
            "VAUPES",
            "VICHADA"
           ],
           "y": {
            "bdata": "AgDzBZwAWgA6AFsBZwAdAcgB8QBrAOsBaAC9AO8AAwAIAOMAJwB3APQBTALjAIwBcwEKAD0A1QCiAHAAzQAmAQEAGwA=",
            "dtype": "i2"
           }
          }
         ],
         "name": "2002"
        },
        {
         "data": [
          {
           "type": "bar",
           "x": [
            "AMAZONAS",
            "ANTIOQUIA",
            "ARAUCA",
            "ATLANTICO",
            "BOGOTA, D. C.",
            "BOLIVAR",
            "BOYACA",
            "CALDAS",
            "CAQUETA",
            "CASANARE",
            "CAUCA",
            "CESAR",
            "CHOCO",
            "CORDOBA",
            "CUNDINAMARCA",
            "EXTERIOR",
            "GUAINIA",
            "GUAVIARE",
            "HUILA",
            "LA GUAJIRA",
            "MAGDALENA",
            "META",
            "NARIÑO",
            "NORTE DE SANTANDER",
            "PUTUMAYO",
            "QUINDIO",
            "RISARALDA",
            "SANTANDER",
            "SIN INFORMACION",
            "SUCRE",
            "TOLIMA",
            "VALLE DEL CAUCA",
            "VAUPES",
            "VICHADA"
           ],
           "y": {
            "bdata": "AwAsBKIAOAA/AOQAZQC2AMEAuQA3AEIBMABxAN0ABQACAOEAKABVALsB4QHOAAUB0wAIACUA8AB7AGUAvwDpAAMAEwA=",
            "dtype": "i2"
           }
          }
         ],
         "name": "2003"
        },
        {
         "data": [
          {
           "type": "bar",
           "x": [
            "AMAZONAS",
            "ANTIOQUIA",
            "ARAUCA",
            "ATLANTICO",
            "BOGOTA, D. C.",
            "BOLIVAR",
            "BOYACA",
            "CALDAS",
            "CAQUETA",
            "CASANARE",
            "CAUCA",
            "CESAR",
            "CHOCO",
            "CORDOBA",
            "CUNDINAMARCA",
            "EXTERIOR",
            "GUAINIA",
            "GUAVIARE",
            "HUILA",
            "LA GUAJIRA",
            "MAGDALENA",
            "META",
            "NARIÑO",
            "NORTE DE SANTANDER",
            "PUTUMAYO",
            "QUINDIO",
            "RISARALDA",
            "SANTANDER",
            "SIN INFORMACION",
            "SUCRE",
            "TOLIMA",
            "VALLE DEL CAUCA",
            "VAUPES",
            "VICHADA"
           ],
           "y": {
            "bdata": "AQCLA3UAOQAsAMMALwB/AKoAQAA1AD4BQgBUAEsAAwABALsAHwBqADYBugHOALoArgAIADkAbQBvAGcAdAAUAQQAJAA=",
            "dtype": "i2"
           }
          }
         ],
         "name": "2004"
        },
        {
         "data": [
          {
           "type": "bar",
           "x": [
            "AMAZONAS",
            "ANTIOQUIA",
            "ARAUCA",
            "ATLANTICO",
            "BOGOTA, D. C.",
            "BOLIVAR",
            "BOYACA",
            "CALDAS",
            "CAQUETA",
            "CASANARE",
            "CAUCA",
            "CESAR",
            "CHOCO",
            "CORDOBA",
            "CUNDINAMARCA",
            "EXTERIOR",
            "GUAINIA",
            "GUAVIARE",
            "HUILA",
            "LA GUAJIRA",
            "MAGDALENA",
            "META",
            "NARIÑO",
            "NORTE DE SANTANDER",
            "PUTUMAYO",
            "QUINDIO",
            "RISARALDA",
            "SANTANDER",
            "SIN INFORMACION",
            "SUCRE",
            "TOLIMA",
            "VALLE DEL CAUCA",
            "VICHADA"
           ],
           "y": {
            "bdata": "AQCZAj0ARQA0AFsAIQBeAH4AHwA3AKkALQA3ABwAAQABAIQAFwBXAK8ATAGEADYAjAAUACYALABFABkAOAC9ACUA",
            "dtype": "i2"
           }
          }
         ],
         "name": "2005"
        },
        {
         "data": [
          {
           "type": "bar",
           "x": [
            "AMAZONAS",
            "ANTIOQUIA",
            "ARAUCA",
            "ATLANTICO",
            "BOGOTA, D. C.",
            "BOLIVAR",
            "BOYACA",
            "CALDAS",
            "CAQUETA",
            "CASANARE",
            "CAUCA",
            "CESAR",
            "CHOCO",
            "CORDOBA",
            "CUNDINAMARCA",
            "EXTERIOR",
            "GUAINIA",
            "GUAVIARE",
            "HUILA",
            "LA GUAJIRA",
            "MAGDALENA",
            "META",
            "NARIÑO",
            "NORTE DE SANTANDER",
            "PUTUMAYO",
            "QUINDIO",
            "RISARALDA",
            "SANTANDER",
            "SIN INFORMACION",
            "SUCRE",
            "TOLIMA",
            "VALLE DEL CAUCA",
            "VAUPES",
            "VICHADA"
           ],
           "y": {
            "bdata": "AgCGASsACAAkAC0ACgAkAFIAFwAaAD8ANAAWAAwAAwACAEEAEgAaADkApAC0ADgAVgAKABoAOwBPAAYAPgCpAAMAGgA=",
            "dtype": "i2"
           }
          }
         ],
         "name": "2006"
        },
        {
         "data": [
          {
           "type": "bar",
           "x": [
            "ANTIOQUIA",
            "ARAUCA",
            "ATLANTICO",
            "BOGOTA, D. C.",
            "BOLIVAR",
            "BOYACA",
            "CALDAS",
            "CAQUETA",
            "CASANARE",
            "CAUCA",
            "CESAR",
            "CHOCO",
            "CORDOBA",
            "CUNDINAMARCA",
            "EXTERIOR",
            "GUAINIA",
            "GUAVIARE",
            "HUILA",
            "LA GUAJIRA",
            "MAGDALENA",
            "META",
            "NARIÑO",
            "NORTE DE SANTANDER",
            "PUTUMAYO",
            "QUINDIO",
            "RISARALDA",
            "SANTANDER",
            "SIN INFORMACION",
            "SUCRE",
            "TOLIMA",
            "VALLE DEL CAUCA",
            "VAUPES",
            "VICHADA"
           ],
           "y": {
            "bdata": "SwE6AAkAOgAmABkAIwBjACEAOgA+AEwAMAAZAAMAAgAuABMADQAxALoAgwAtAEcAFQANACgAPQAtACIA5wAEABQA",
            "dtype": "i2"
           }
          }
         ],
         "name": "2007"
        },
        {
         "data": [
          {
           "type": "bar",
           "x": [
            "AMAZONAS",
            "ANTIOQUIA",
            "ARAUCA",
            "ATLANTICO",
            "BOGOTA, D. C.",
            "BOLIVAR",
            "BOYACA",
            "CALDAS",
            "CAQUETA",
            "CASANARE",
            "CAUCA",
            "CESAR",
            "CHOCO",
            "CORDOBA",
            "CUNDINAMARCA",
            "GUAINIA",
            "GUAVIARE",
            "HUILA",
            "LA GUAJIRA",
            "MAGDALENA",
            "META",
            "NARIÑO",
            "NORTE DE SANTANDER",
            "PUTUMAYO",
            "QUINDIO",
            "RISARALDA",
            "SANTANDER",
            "SIN INFORMACION",
            "SUCRE",
            "TOLIMA",
            "VALLE DEL CAUCA",
            "VAUPES",
            "VICHADA"
           ],
           "y": {
            "bdata": "AgAUAR4ABwAhABQAGwAWAC4ADAAnABsAQAAvACQAAgAZAB8AEAAcAGQApAAtABsAEQAeACcAIQACABcAogAGAA4A",
            "dtype": "i2"
           }
          }
         ],
         "name": "2008"
        },
        {
         "data": [
          {
           "type": "bar",
           "x": [
            "ANTIOQUIA",
            "ARAUCA",
            "ATLANTICO",
            "BOGOTA, D. C.",
            "BOLIVAR",
            "BOYACA",
            "CALDAS",
            "CAQUETA",
            "CASANARE",
            "CAUCA",
            "CESAR",
            "CHOCO",
            "CORDOBA",
            "CUNDINAMARCA",
            "EXTERIOR",
            "GUAVIARE",
            "HUILA",
            "LA GUAJIRA",
            "MAGDALENA",
            "META",
            "NARIÑO",
            "NORTE DE SANTANDER",
            "PUTUMAYO",
            "QUINDIO",
            "RISARALDA",
            "SANTANDER",
            "SIN INFORMACION",
            "SUCRE",
            "TOLIMA",
            "VALLE DEL CAUCA",
            "VAUPES",
            "VICHADA"
           ],
           "y": {
            "bdata": "ogEYABIAGwAOAAUADQAxAAsAIwAWAC4ANQAVAAIAFgAYAAsAFQBQAHYAOAAmAAgACwAXAAkACgASAIcAAgAEAA==",
            "dtype": "i2"
           }
          }
         ],
         "name": "2009"
        },
        {
         "data": [
          {
           "type": "bar",
           "x": [
            "ANTIOQUIA",
            "ARAUCA",
            "ARCHIPIELAGO DE SAN ANDRES, PROVIDENCIA Y SANTA CATALINA",
            "ATLANTICO",
            "BOGOTA, D. C.",
            "BOLIVAR",
            "BOYACA",
            "CALDAS",
            "CAQUETA",
            "CASANARE",
            "CAUCA",
            "CESAR",
            "CHOCO",
            "CORDOBA",
            "CUNDINAMARCA",
            "EXTERIOR",
            "GUAVIARE",
            "HUILA",
            "LA GUAJIRA",
            "MAGDALENA",
            "META",
            "NARIÑO",
            "NORTE DE SANTANDER",
            "PUTUMAYO",
            "QUINDIO",
            "RISARALDA",
            "SANTANDER",
            "SIN INFORMACION",
            "SUCRE",
            "TOLIMA",
            "VALLE DEL CAUCA",
            "VAUPES",
            "VICHADA"
           ],
           "y": {
            "bdata": "xgERAAEAHwARABQABwAHAC0ABgArABEAJwAVAAgAAQAdAAoACQAMAD4AWwBKAA4ABwAMABEABQACABIAXQACAA0A",
            "dtype": "i2"
           }
          }
         ],
         "name": "2010"
        },
        {
         "data": [
          {
           "type": "bar",
           "x": [
            "AMAZONAS",
            "ANTIOQUIA",
            "ARAUCA",
            "ARCHIPIELAGO DE SAN ANDRES, PROVIDENCIA Y SANTA CATALINA",
            "ATLANTICO",
            "BOGOTA, D. C.",
            "BOLIVAR",
            "BOYACA",
            "CALDAS",
            "CAQUETA",
            "CASANARE",
            "CAUCA",
            "CESAR",
            "CHOCO",
            "CORDOBA",
            "CUNDINAMARCA",
            "EXTERIOR",
            "GUAINIA",
            "GUAVIARE",
            "HUILA",
            "LA GUAJIRA",
            "MAGDALENA",
            "META",
            "NARIÑO",
            "NORTE DE SANTANDER",
            "PUTUMAYO",
            "QUINDIO",
            "RISARALDA",
            "SANTANDER",
            "SIN INFORMACION",
            "SUCRE",
            "TOLIMA",
            "VALLE DEL CAUCA",
            "VICHADA"
           ],
           "y": {
            "bdata": "AgCZAQkAAwAYABUACQAJAAYAIAABABkAFgAhACAADQABAAEAEQAVAAwABgAmAEgARAAdAAoACAAPAAkABAALAEkABAA=",
            "dtype": "i2"
           }
          }
         ],
         "name": "2011"
        },
        {
         "data": [
          {
           "type": "bar",
           "x": [
            "AMAZONAS",
            "ANTIOQUIA",
            "ARAUCA",
            "ATLANTICO",
            "BOGOTA, D. C.",
            "BOLIVAR",
            "BOYACA",
            "CALDAS",
            "CAQUETA",
            "CASANARE",
            "CAUCA",
            "CESAR",
            "CHOCO",
            "CORDOBA",
            "CUNDINAMARCA",
            "EXTERIOR",
            "GUAVIARE",
            "HUILA",
            "LA GUAJIRA",
            "MAGDALENA",
            "META",
            "NARIÑO",
            "NORTE DE SANTANDER",
            "PUTUMAYO",
            "QUINDIO",
            "RISARALDA",
            "SANTANDER",
            "SIN INFORMACION",
            "SUCRE",
            "TOLIMA",
            "VALLE DEL CAUCA",
            "VAUPES"
           ],
           "y": {
            "bdata": "BHwJAQQEAwUdBR0MJgcIAQ8MEAkcSjIlBQoVBQQcQQQ=",
            "dtype": "i1"
           }
          }
         ],
         "name": "2012"
        },
        {
         "data": [
          {
           "type": "bar",
           "x": [
            "AMAZONAS",
            "ANTIOQUIA",
            "ARAUCA",
            "BOLIVAR",
            "BOYACA",
            "CAQUETA",
            "CASANARE",
            "CAUCA",
            "CHOCO",
            "CORDOBA",
            "GUAVIARE",
            "HUILA",
            "MAGDALENA",
            "META",
            "NARIÑO",
            "NORTE DE SANTANDER",
            "PUTUMAYO",
            "SANTANDER",
            "SIN INFORMACION",
            "TOLIMA",
            "VALLE DEL CAUCA",
            "VICHADA"
           ],
           "y": {
            "bdata": "AQwCAgElARECDAYCAgQSBQECAgMVAQ==",
            "dtype": "i1"
           }
          }
         ],
         "name": "2013"
        },
        {
         "data": [
          {
           "type": "bar",
           "x": [
            "ANTIOQUIA",
            "ARAUCA",
            "ATLANTICO",
            "BOGOTA, D. C.",
            "BOLIVAR",
            "CALDAS",
            "CAQUETA",
            "CAUCA",
            "CESAR",
            "CHOCO",
            "CORDOBA",
            "CUNDINAMARCA",
            "GUAINIA",
            "GUAVIARE",
            "HUILA",
            "LA GUAJIRA",
            "MAGDALENA",
            "META",
            "NARIÑO",
            "NORTE DE SANTANDER",
            "PUTUMAYO",
            "QUINDIO",
            "RISARALDA",
            "SUCRE",
            "TOLIMA",
            "VALLE DEL CAUCA",
            "VAUPES",
            "VICHADA"
           ],
           "y": {
            "bdata": "CQMFAQQBNgYFBgQCAQEEAgUGAgUDBAYFAQ4DAQ==",
            "dtype": "i1"
           }
          }
         ],
         "name": "2014"
        },
        {
         "data": [
          {
           "type": "bar",
           "x": [
            "ANTIOQUIA",
            "ARAUCA",
            "BOLIVAR",
            "CAQUETA",
            "CAUCA",
            "CHOCO",
            "MAGDALENA",
            "META",
            "NARIÑO",
            "QUINDIO",
            "SANTANDER",
            "SIN INFORMACION",
            "VALLE DEL CAUCA",
            "VICHADA"
           ],
           "y": {
            "bdata": "BQUBIwcBAgECAgECBgE=",
            "dtype": "i1"
           }
          }
         ],
         "name": "2015"
        },
        {
         "data": [
          {
           "type": "bar",
           "x": [
            "ANTIOQUIA",
            "CAQUETA",
            "CAUCA",
            "CESAR",
            "CHOCO",
            "CUNDINAMARCA",
            "META",
            "NORTE DE SANTANDER",
            "PUTUMAYO",
            "VALLE DEL CAUCA",
            "VICHADA"
           ],
           "y": {
            "bdata": "ByEEAQEBBAMIAgE=",
            "dtype": "i1"
           }
          }
         ],
         "name": "2016"
        },
        {
         "data": [
          {
           "type": "bar",
           "x": [
            "ANTIOQUIA",
            "ARAUCA",
            "BOGOTA, D. C.",
            "BOLIVAR",
            "CALDAS",
            "CAQUETA",
            "CAUCA",
            "CESAR",
            "CHOCO",
            "CUNDINAMARCA",
            "HUILA",
            "LA GUAJIRA",
            "NARIÑO",
            "NORTE DE SANTANDER",
            "PUTUMAYO",
            "SANTANDER",
            "SIN INFORMACION",
            "TOLIMA",
            "VALLE DEL CAUCA",
            "VICHADA"
           ],
           "y": {
            "bdata": "CgUBBQECAQEDAgEBBggCAwEDCgE=",
            "dtype": "i1"
           }
          }
         ],
         "name": "2017"
        },
        {
         "data": [
          {
           "type": "bar",
           "x": [
            "ANTIOQUIA",
            "ARAUCA",
            "BOLIVAR",
            "CAUCA",
            "CESAR",
            "CHOCO",
            "CORDOBA",
            "GUAVIARE",
            "MAGDALENA",
            "NARIÑO",
            "NORTE DE SANTANDER",
            "PUTUMAYO",
            "SANTANDER",
            "SIN INFORMACION",
            "VALLE DEL CAUCA"
           ],
           "y": {
            "bdata": "BwECBgEDAgEBCgMBAwEE",
            "dtype": "i1"
           }
          }
         ],
         "name": "2018"
        },
        {
         "data": [
          {
           "type": "bar",
           "x": [
            "ANTIOQUIA",
            "BOLIVAR",
            "CAQUETA",
            "CAUCA",
            "CHOCO",
            "CORDOBA",
            "MAGDALENA",
            "NARIÑO",
            "NORTE DE SANTANDER",
            "PUTUMAYO",
            "SANTANDER",
            "VALLE DEL CAUCA"
           ],
           "y": {
            "bdata": "AgUCDgMBAgYGAgMD",
            "dtype": "i1"
           }
          }
         ],
         "name": "2019"
        },
        {
         "data": [
          {
           "type": "bar",
           "x": [
            "ANTIOQUIA",
            "BOGOTA, D. C.",
            "CAUCA",
            "CHOCO",
            "CUNDINAMARCA",
            "MAGDALENA",
            "NARIÑO",
            "NORTE DE SANTANDER",
            "PUTUMAYO",
            "SIN INFORMACION",
            "VALLE DEL CAUCA"
           ],
           "y": {
            "bdata": "BQEKAQQBBwUBAQE=",
            "dtype": "i1"
           }
          }
         ],
         "name": "2020"
        },
        {
         "data": [
          {
           "type": "bar",
           "x": [
            "ANTIOQUIA",
            "ARAUCA",
            "BOLIVAR",
            "CALDAS",
            "CAQUETA",
            "CAUCA",
            "CESAR",
            "CHOCO",
            "CORDOBA",
            "GUAVIARE",
            "NARIÑO",
            "TOLIMA",
            "VALLE DEL CAUCA"
           ],
           "y": {
            "bdata": "AwEBAQQCAwEBAQkBAw==",
            "dtype": "i1"
           }
          }
         ],
         "name": "2021"
        },
        {
         "data": [
          {
           "type": "bar",
           "x": [
            "ANTIOQUIA",
            "ATLANTICO",
            "BOLIVAR",
            "CAQUETA",
            "CAUCA",
            "CHOCO",
            "MAGDALENA",
            "NARIÑO",
            "NORTE DE SANTANDER",
            "PUTUMAYO",
            "RISARALDA",
            "SANTANDER",
            "TOLIMA",
            "VALLE DEL CAUCA",
            "VICHADA"
           ],
           "y": {
            "bdata": "DwEBAQYBAQUCAgEBBQUB",
            "dtype": "i1"
           }
          }
         ],
         "name": "2022"
        },
        {
         "data": [
          {
           "type": "bar",
           "x": [
            "ANTIOQUIA",
            "CAQUETA",
            "CAUCA",
            "CHOCO",
            "NARIÑO",
            "VALLE DEL CAUCA"
           ],
           "y": {
            "bdata": "AQEIAgEF",
            "dtype": "i1"
           }
          }
         ],
         "name": "2023"
        }
       ],
       "layout": {
        "barmode": "relative",
        "height": 600,
        "legend": {
         "tracegroupgap": 0
        },
        "sliders": [
         {
          "active": 0,
          "currentvalue": {
           "prefix": "Año: "
          },
          "pad": {
           "t": 50
          },
          "steps": [
           {
            "args": [
             [
              "0"
             ],
             {
              "frame": {
               "duration": 500,
               "redraw": true
              },
              "mode": "immediate",
              "transition": {
               "duration": 0
              }
             }
            ],
            "label": "0",
            "method": "animate"
           },
           {
            "args": [
             [
              "1948"
             ],
             {
              "frame": {
               "duration": 500,
               "redraw": true
              },
              "mode": "immediate",
              "transition": {
               "duration": 0
              }
             }
            ],
            "label": "1948",
            "method": "animate"
           },
           {
            "args": [
             [
              "1951"
             ],
             {
              "frame": {
               "duration": 500,
               "redraw": true
              },
              "mode": "immediate",
              "transition": {
               "duration": 0
              }
             }
            ],
            "label": "1951",
            "method": "animate"
           },
           {
            "args": [
             [
              "1952"
             ],
             {
              "frame": {
               "duration": 500,
               "redraw": true
              },
              "mode": "immediate",
              "transition": {
               "duration": 0
              }
             }
            ],
            "label": "1952",
            "method": "animate"
           },
           {
            "args": [
             [
              "1954"
             ],
             {
              "frame": {
               "duration": 500,
               "redraw": true
              },
              "mode": "immediate",
              "transition": {
               "duration": 0
              }
             }
            ],
            "label": "1954",
            "method": "animate"
           },
           {
            "args": [
             [
              "1955"
             ],
             {
              "frame": {
               "duration": 500,
               "redraw": true
              },
              "mode": "immediate",
              "transition": {
               "duration": 0
              }
             }
            ],
            "label": "1955",
            "method": "animate"
           },
           {
            "args": [
             [
              "1956"
             ],
             {
              "frame": {
               "duration": 500,
               "redraw": true
              },
              "mode": "immediate",
              "transition": {
               "duration": 0
              }
             }
            ],
            "label": "1956",
            "method": "animate"
           },
           {
            "args": [
             [
              "1957"
             ],
             {
              "frame": {
               "duration": 500,
               "redraw": true
              },
              "mode": "immediate",
              "transition": {
               "duration": 0
              }
             }
            ],
            "label": "1957",
            "method": "animate"
           },
           {
            "args": [
             [
              "1958"
             ],
             {
              "frame": {
               "duration": 500,
               "redraw": true
              },
              "mode": "immediate",
              "transition": {
               "duration": 0
              }
             }
            ],
            "label": "1958",
            "method": "animate"
           },
           {
            "args": [
             [
              "1959"
             ],
             {
              "frame": {
               "duration": 500,
               "redraw": true
              },
              "mode": "immediate",
              "transition": {
               "duration": 0
              }
             }
            ],
            "label": "1959",
            "method": "animate"
           },
           {
            "args": [
             [
              "1960"
             ],
             {
              "frame": {
               "duration": 500,
               "redraw": true
              },
              "mode": "immediate",
              "transition": {
               "duration": 0
              }
             }
            ],
            "label": "1960",
            "method": "animate"
           },
           {
            "args": [
             [
              "1961"
             ],
             {
              "frame": {
               "duration": 500,
               "redraw": true
              },
              "mode": "immediate",
              "transition": {
               "duration": 0
              }
             }
            ],
            "label": "1961",
            "method": "animate"
           },
           {
            "args": [
             [
              "1962"
             ],
             {
              "frame": {
               "duration": 500,
               "redraw": true
              },
              "mode": "immediate",
              "transition": {
               "duration": 0
              }
             }
            ],
            "label": "1962",
            "method": "animate"
           },
           {
            "args": [
             [
              "1963"
             ],
             {
              "frame": {
               "duration": 500,
               "redraw": true
              },
              "mode": "immediate",
              "transition": {
               "duration": 0
              }
             }
            ],
            "label": "1963",
            "method": "animate"
           },
           {
            "args": [
             [
              "1964"
             ],
             {
              "frame": {
               "duration": 500,
               "redraw": true
              },
              "mode": "immediate",
              "transition": {
               "duration": 0
              }
             }
            ],
            "label": "1964",
            "method": "animate"
           },
           {
            "args": [
             [
              "1965"
             ],
             {
              "frame": {
               "duration": 500,
               "redraw": true
              },
              "mode": "immediate",
              "transition": {
               "duration": 0
              }
             }
            ],
            "label": "1965",
            "method": "animate"
           },
           {
            "args": [
             [
              "1966"
             ],
             {
              "frame": {
               "duration": 500,
               "redraw": true
              },
              "mode": "immediate",
              "transition": {
               "duration": 0
              }
             }
            ],
            "label": "1966",
            "method": "animate"
           },
           {
            "args": [
             [
              "1967"
             ],
             {
              "frame": {
               "duration": 500,
               "redraw": true
              },
              "mode": "immediate",
              "transition": {
               "duration": 0
              }
             }
            ],
            "label": "1967",
            "method": "animate"
           },
           {
            "args": [
             [
              "1968"
             ],
             {
              "frame": {
               "duration": 500,
               "redraw": true
              },
              "mode": "immediate",
              "transition": {
               "duration": 0
              }
             }
            ],
            "label": "1968",
            "method": "animate"
           },
           {
            "args": [
             [
              "1969"
             ],
             {
              "frame": {
               "duration": 500,
               "redraw": true
              },
              "mode": "immediate",
              "transition": {
               "duration": 0
              }
             }
            ],
            "label": "1969",
            "method": "animate"
           },
           {
            "args": [
             [
              "1970"
             ],
             {
              "frame": {
               "duration": 500,
               "redraw": true
              },
              "mode": "immediate",
              "transition": {
               "duration": 0
              }
             }
            ],
            "label": "1970",
            "method": "animate"
           },
           {
            "args": [
             [
              "1971"
             ],
             {
              "frame": {
               "duration": 500,
               "redraw": true
              },
              "mode": "immediate",
              "transition": {
               "duration": 0
              }
             }
            ],
            "label": "1971",
            "method": "animate"
           },
           {
            "args": [
             [
              "1972"
             ],
             {
              "frame": {
               "duration": 500,
               "redraw": true
              },
              "mode": "immediate",
              "transition": {
               "duration": 0
              }
             }
            ],
            "label": "1972",
            "method": "animate"
           },
           {
            "args": [
             [
              "1973"
             ],
             {
              "frame": {
               "duration": 500,
               "redraw": true
              },
              "mode": "immediate",
              "transition": {
               "duration": 0
              }
             }
            ],
            "label": "1973",
            "method": "animate"
           },
           {
            "args": [
             [
              "1974"
             ],
             {
              "frame": {
               "duration": 500,
               "redraw": true
              },
              "mode": "immediate",
              "transition": {
               "duration": 0
              }
             }
            ],
            "label": "1974",
            "method": "animate"
           },
           {
            "args": [
             [
              "1975"
             ],
             {
              "frame": {
               "duration": 500,
               "redraw": true
              },
              "mode": "immediate",
              "transition": {
               "duration": 0
              }
             }
            ],
            "label": "1975",
            "method": "animate"
           },
           {
            "args": [
             [
              "1976"
             ],
             {
              "frame": {
               "duration": 500,
               "redraw": true
              },
              "mode": "immediate",
              "transition": {
               "duration": 0
              }
             }
            ],
            "label": "1976",
            "method": "animate"
           },
           {
            "args": [
             [
              "1977"
             ],
             {
              "frame": {
               "duration": 500,
               "redraw": true
              },
              "mode": "immediate",
              "transition": {
               "duration": 0
              }
             }
            ],
            "label": "1977",
            "method": "animate"
           },
           {
            "args": [
             [
              "1978"
             ],
             {
              "frame": {
               "duration": 500,
               "redraw": true
              },
              "mode": "immediate",
              "transition": {
               "duration": 0
              }
             }
            ],
            "label": "1978",
            "method": "animate"
           },
           {
            "args": [
             [
              "1979"
             ],
             {
              "frame": {
               "duration": 500,
               "redraw": true
              },
              "mode": "immediate",
              "transition": {
               "duration": 0
              }
             }
            ],
            "label": "1979",
            "method": "animate"
           },
           {
            "args": [
             [
              "1980"
             ],
             {
              "frame": {
               "duration": 500,
               "redraw": true
              },
              "mode": "immediate",
              "transition": {
               "duration": 0
              }
             }
            ],
            "label": "1980",
            "method": "animate"
           },
           {
            "args": [
             [
              "1981"
             ],
             {
              "frame": {
               "duration": 500,
               "redraw": true
              },
              "mode": "immediate",
              "transition": {
               "duration": 0
              }
             }
            ],
            "label": "1981",
            "method": "animate"
           },
           {
            "args": [
             [
              "1982"
             ],
             {
              "frame": {
               "duration": 500,
               "redraw": true
              },
              "mode": "immediate",
              "transition": {
               "duration": 0
              }
             }
            ],
            "label": "1982",
            "method": "animate"
           },
           {
            "args": [
             [
              "1983"
             ],
             {
              "frame": {
               "duration": 500,
               "redraw": true
              },
              "mode": "immediate",
              "transition": {
               "duration": 0
              }
             }
            ],
            "label": "1983",
            "method": "animate"
           },
           {
            "args": [
             [
              "1984"
             ],
             {
              "frame": {
               "duration": 500,
               "redraw": true
              },
              "mode": "immediate",
              "transition": {
               "duration": 0
              }
             }
            ],
            "label": "1984",
            "method": "animate"
           },
           {
            "args": [
             [
              "1985"
             ],
             {
              "frame": {
               "duration": 500,
               "redraw": true
              },
              "mode": "immediate",
              "transition": {
               "duration": 0
              }
             }
            ],
            "label": "1985",
            "method": "animate"
           },
           {
            "args": [
             [
              "1986"
             ],
             {
              "frame": {
               "duration": 500,
               "redraw": true
              },
              "mode": "immediate",
              "transition": {
               "duration": 0
              }
             }
            ],
            "label": "1986",
            "method": "animate"
           },
           {
            "args": [
             [
              "1987"
             ],
             {
              "frame": {
               "duration": 500,
               "redraw": true
              },
              "mode": "immediate",
              "transition": {
               "duration": 0
              }
             }
            ],
            "label": "1987",
            "method": "animate"
           },
           {
            "args": [
             [
              "1988"
             ],
             {
              "frame": {
               "duration": 500,
               "redraw": true
              },
              "mode": "immediate",
              "transition": {
               "duration": 0
              }
             }
            ],
            "label": "1988",
            "method": "animate"
           },
           {
            "args": [
             [
              "1989"
             ],
             {
              "frame": {
               "duration": 500,
               "redraw": true
              },
              "mode": "immediate",
              "transition": {
               "duration": 0
              }
             }
            ],
            "label": "1989",
            "method": "animate"
           },
           {
            "args": [
             [
              "1990"
             ],
             {
              "frame": {
               "duration": 500,
               "redraw": true
              },
              "mode": "immediate",
              "transition": {
               "duration": 0
              }
             }
            ],
            "label": "1990",
            "method": "animate"
           },
           {
            "args": [
             [
              "1991"
             ],
             {
              "frame": {
               "duration": 500,
               "redraw": true
              },
              "mode": "immediate",
              "transition": {
               "duration": 0
              }
             }
            ],
            "label": "1991",
            "method": "animate"
           },
           {
            "args": [
             [
              "1992"
             ],
             {
              "frame": {
               "duration": 500,
               "redraw": true
              },
              "mode": "immediate",
              "transition": {
               "duration": 0
              }
             }
            ],
            "label": "1992",
            "method": "animate"
           },
           {
            "args": [
             [
              "1993"
             ],
             {
              "frame": {
               "duration": 500,
               "redraw": true
              },
              "mode": "immediate",
              "transition": {
               "duration": 0
              }
             }
            ],
            "label": "1993",
            "method": "animate"
           },
           {
            "args": [
             [
              "1994"
             ],
             {
              "frame": {
               "duration": 500,
               "redraw": true
              },
              "mode": "immediate",
              "transition": {
               "duration": 0
              }
             }
            ],
            "label": "1994",
            "method": "animate"
           },
           {
            "args": [
             [
              "1995"
             ],
             {
              "frame": {
               "duration": 500,
               "redraw": true
              },
              "mode": "immediate",
              "transition": {
               "duration": 0
              }
             }
            ],
            "label": "1995",
            "method": "animate"
           },
           {
            "args": [
             [
              "1996"
             ],
             {
              "frame": {
               "duration": 500,
               "redraw": true
              },
              "mode": "immediate",
              "transition": {
               "duration": 0
              }
             }
            ],
            "label": "1996",
            "method": "animate"
           },
           {
            "args": [
             [
              "1997"
             ],
             {
              "frame": {
               "duration": 500,
               "redraw": true
              },
              "mode": "immediate",
              "transition": {
               "duration": 0
              }
             }
            ],
            "label": "1997",
            "method": "animate"
           },
           {
            "args": [
             [
              "1998"
             ],
             {
              "frame": {
               "duration": 500,
               "redraw": true
              },
              "mode": "immediate",
              "transition": {
               "duration": 0
              }
             }
            ],
            "label": "1998",
            "method": "animate"
           },
           {
            "args": [
             [
              "1999"
             ],
             {
              "frame": {
               "duration": 500,
               "redraw": true
              },
              "mode": "immediate",
              "transition": {
               "duration": 0
              }
             }
            ],
            "label": "1999",
            "method": "animate"
           },
           {
            "args": [
             [
              "2000"
             ],
             {
              "frame": {
               "duration": 500,
               "redraw": true
              },
              "mode": "immediate",
              "transition": {
               "duration": 0
              }
             }
            ],
            "label": "2000",
            "method": "animate"
           },
           {
            "args": [
             [
              "2001"
             ],
             {
              "frame": {
               "duration": 500,
               "redraw": true
              },
              "mode": "immediate",
              "transition": {
               "duration": 0
              }
             }
            ],
            "label": "2001",
            "method": "animate"
           },
           {
            "args": [
             [
              "2002"
             ],
             {
              "frame": {
               "duration": 500,
               "redraw": true
              },
              "mode": "immediate",
              "transition": {
               "duration": 0
              }
             }
            ],
            "label": "2002",
            "method": "animate"
           },
           {
            "args": [
             [
              "2003"
             ],
             {
              "frame": {
               "duration": 500,
               "redraw": true
              },
              "mode": "immediate",
              "transition": {
               "duration": 0
              }
             }
            ],
            "label": "2003",
            "method": "animate"
           },
           {
            "args": [
             [
              "2004"
             ],
             {
              "frame": {
               "duration": 500,
               "redraw": true
              },
              "mode": "immediate",
              "transition": {
               "duration": 0
              }
             }
            ],
            "label": "2004",
            "method": "animate"
           },
           {
            "args": [
             [
              "2005"
             ],
             {
              "frame": {
               "duration": 500,
               "redraw": true
              },
              "mode": "immediate",
              "transition": {
               "duration": 0
              }
             }
            ],
            "label": "2005",
            "method": "animate"
           },
           {
            "args": [
             [
              "2006"
             ],
             {
              "frame": {
               "duration": 500,
               "redraw": true
              },
              "mode": "immediate",
              "transition": {
               "duration": 0
              }
             }
            ],
            "label": "2006",
            "method": "animate"
           },
           {
            "args": [
             [
              "2007"
             ],
             {
              "frame": {
               "duration": 500,
               "redraw": true
              },
              "mode": "immediate",
              "transition": {
               "duration": 0
              }
             }
            ],
            "label": "2007",
            "method": "animate"
           },
           {
            "args": [
             [
              "2008"
             ],
             {
              "frame": {
               "duration": 500,
               "redraw": true
              },
              "mode": "immediate",
              "transition": {
               "duration": 0
              }
             }
            ],
            "label": "2008",
            "method": "animate"
           },
           {
            "args": [
             [
              "2009"
             ],
             {
              "frame": {
               "duration": 500,
               "redraw": true
              },
              "mode": "immediate",
              "transition": {
               "duration": 0
              }
             }
            ],
            "label": "2009",
            "method": "animate"
           },
           {
            "args": [
             [
              "2010"
             ],
             {
              "frame": {
               "duration": 500,
               "redraw": true
              },
              "mode": "immediate",
              "transition": {
               "duration": 0
              }
             }
            ],
            "label": "2010",
            "method": "animate"
           },
           {
            "args": [
             [
              "2011"
             ],
             {
              "frame": {
               "duration": 500,
               "redraw": true
              },
              "mode": "immediate",
              "transition": {
               "duration": 0
              }
             }
            ],
            "label": "2011",
            "method": "animate"
           },
           {
            "args": [
             [
              "2012"
             ],
             {
              "frame": {
               "duration": 500,
               "redraw": true
              },
              "mode": "immediate",
              "transition": {
               "duration": 0
              }
             }
            ],
            "label": "2012",
            "method": "animate"
           },
           {
            "args": [
             [
              "2013"
             ],
             {
              "frame": {
               "duration": 500,
               "redraw": true
              },
              "mode": "immediate",
              "transition": {
               "duration": 0
              }
             }
            ],
            "label": "2013",
            "method": "animate"
           },
           {
            "args": [
             [
              "2014"
             ],
             {
              "frame": {
               "duration": 500,
               "redraw": true
              },
              "mode": "immediate",
              "transition": {
               "duration": 0
              }
             }
            ],
            "label": "2014",
            "method": "animate"
           },
           {
            "args": [
             [
              "2015"
             ],
             {
              "frame": {
               "duration": 500,
               "redraw": true
              },
              "mode": "immediate",
              "transition": {
               "duration": 0
              }
             }
            ],
            "label": "2015",
            "method": "animate"
           },
           {
            "args": [
             [
              "2016"
             ],
             {
              "frame": {
               "duration": 500,
               "redraw": true
              },
              "mode": "immediate",
              "transition": {
               "duration": 0
              }
             }
            ],
            "label": "2016",
            "method": "animate"
           },
           {
            "args": [
             [
              "2017"
             ],
             {
              "frame": {
               "duration": 500,
               "redraw": true
              },
              "mode": "immediate",
              "transition": {
               "duration": 0
              }
             }
            ],
            "label": "2017",
            "method": "animate"
           },
           {
            "args": [
             [
              "2018"
             ],
             {
              "frame": {
               "duration": 500,
               "redraw": true
              },
              "mode": "immediate",
              "transition": {
               "duration": 0
              }
             }
            ],
            "label": "2018",
            "method": "animate"
           },
           {
            "args": [
             [
              "2019"
             ],
             {
              "frame": {
               "duration": 500,
               "redraw": true
              },
              "mode": "immediate",
              "transition": {
               "duration": 0
              }
             }
            ],
            "label": "2019",
            "method": "animate"
           },
           {
            "args": [
             [
              "2020"
             ],
             {
              "frame": {
               "duration": 500,
               "redraw": true
              },
              "mode": "immediate",
              "transition": {
               "duration": 0
              }
             }
            ],
            "label": "2020",
            "method": "animate"
           },
           {
            "args": [
             [
              "2021"
             ],
             {
              "frame": {
               "duration": 500,
               "redraw": true
              },
              "mode": "immediate",
              "transition": {
               "duration": 0
              }
             }
            ],
            "label": "2021",
            "method": "animate"
           },
           {
            "args": [
             [
              "2022"
             ],
             {
              "frame": {
               "duration": 500,
               "redraw": true
              },
              "mode": "immediate",
              "transition": {
               "duration": 0
              }
             }
            ],
            "label": "2022",
            "method": "animate"
           },
           {
            "args": [
             [
              "2023"
             ],
             {
              "frame": {
               "duration": 500,
               "redraw": true
              },
              "mode": "immediate",
              "transition": {
               "duration": 0
              }
             }
            ],
            "label": "2023",
            "method": "animate"
           }
          ]
         }
        ],
        "template": {
         "data": {
          "bar": [
           {
            "error_x": {
             "color": "#2a3f5f"
            },
            "error_y": {
             "color": "#2a3f5f"
            },
            "marker": {
             "line": {
              "color": "#E5ECF6",
              "width": 0.5
             },
             "pattern": {
              "fillmode": "overlay",
              "size": 10,
              "solidity": 0.2
             }
            },
            "type": "bar"
           }
          ],
          "barpolar": [
           {
            "marker": {
             "line": {
              "color": "#E5ECF6",
              "width": 0.5
             },
             "pattern": {
              "fillmode": "overlay",
              "size": 10,
              "solidity": 0.2
             }
            },
            "type": "barpolar"
           }
          ],
          "carpet": [
           {
            "aaxis": {
             "endlinecolor": "#2a3f5f",
             "gridcolor": "white",
             "linecolor": "white",
             "minorgridcolor": "white",
             "startlinecolor": "#2a3f5f"
            },
            "baxis": {
             "endlinecolor": "#2a3f5f",
             "gridcolor": "white",
             "linecolor": "white",
             "minorgridcolor": "white",
             "startlinecolor": "#2a3f5f"
            },
            "type": "carpet"
           }
          ],
          "choropleth": [
           {
            "colorbar": {
             "outlinewidth": 0,
             "ticks": ""
            },
            "type": "choropleth"
           }
          ],
          "contour": [
           {
            "colorbar": {
             "outlinewidth": 0,
             "ticks": ""
            },
            "colorscale": [
             [
              0,
              "#0d0887"
             ],
             [
              0.1111111111111111,
              "#46039f"
             ],
             [
              0.2222222222222222,
              "#7201a8"
             ],
             [
              0.3333333333333333,
              "#9c179e"
             ],
             [
              0.4444444444444444,
              "#bd3786"
             ],
             [
              0.5555555555555556,
              "#d8576b"
             ],
             [
              0.6666666666666666,
              "#ed7953"
             ],
             [
              0.7777777777777778,
              "#fb9f3a"
             ],
             [
              0.8888888888888888,
              "#fdca26"
             ],
             [
              1,
              "#f0f921"
             ]
            ],
            "type": "contour"
           }
          ],
          "contourcarpet": [
           {
            "colorbar": {
             "outlinewidth": 0,
             "ticks": ""
            },
            "type": "contourcarpet"
           }
          ],
          "heatmap": [
           {
            "colorbar": {
             "outlinewidth": 0,
             "ticks": ""
            },
            "colorscale": [
             [
              0,
              "#0d0887"
             ],
             [
              0.1111111111111111,
              "#46039f"
             ],
             [
              0.2222222222222222,
              "#7201a8"
             ],
             [
              0.3333333333333333,
              "#9c179e"
             ],
             [
              0.4444444444444444,
              "#bd3786"
             ],
             [
              0.5555555555555556,
              "#d8576b"
             ],
             [
              0.6666666666666666,
              "#ed7953"
             ],
             [
              0.7777777777777778,
              "#fb9f3a"
             ],
             [
              0.8888888888888888,
              "#fdca26"
             ],
             [
              1,
              "#f0f921"
             ]
            ],
            "type": "heatmap"
           }
          ],
          "histogram": [
           {
            "marker": {
             "pattern": {
              "fillmode": "overlay",
              "size": 10,
              "solidity": 0.2
             }
            },
            "type": "histogram"
           }
          ],
          "histogram2d": [
           {
            "colorbar": {
             "outlinewidth": 0,
             "ticks": ""
            },
            "colorscale": [
             [
              0,
              "#0d0887"
             ],
             [
              0.1111111111111111,
              "#46039f"
             ],
             [
              0.2222222222222222,
              "#7201a8"
             ],
             [
              0.3333333333333333,
              "#9c179e"
             ],
             [
              0.4444444444444444,
              "#bd3786"
             ],
             [
              0.5555555555555556,
              "#d8576b"
             ],
             [
              0.6666666666666666,
              "#ed7953"
             ],
             [
              0.7777777777777778,
              "#fb9f3a"
             ],
             [
              0.8888888888888888,
              "#fdca26"
             ],
             [
              1,
              "#f0f921"
             ]
            ],
            "type": "histogram2d"
           }
          ],
          "histogram2dcontour": [
           {
            "colorbar": {
             "outlinewidth": 0,
             "ticks": ""
            },
            "colorscale": [
             [
              0,
              "#0d0887"
             ],
             [
              0.1111111111111111,
              "#46039f"
             ],
             [
              0.2222222222222222,
              "#7201a8"
             ],
             [
              0.3333333333333333,
              "#9c179e"
             ],
             [
              0.4444444444444444,
              "#bd3786"
             ],
             [
              0.5555555555555556,
              "#d8576b"
             ],
             [
              0.6666666666666666,
              "#ed7953"
             ],
             [
              0.7777777777777778,
              "#fb9f3a"
             ],
             [
              0.8888888888888888,
              "#fdca26"
             ],
             [
              1,
              "#f0f921"
             ]
            ],
            "type": "histogram2dcontour"
           }
          ],
          "mesh3d": [
           {
            "colorbar": {
             "outlinewidth": 0,
             "ticks": ""
            },
            "type": "mesh3d"
           }
          ],
          "parcoords": [
           {
            "line": {
             "colorbar": {
              "outlinewidth": 0,
              "ticks": ""
             }
            },
            "type": "parcoords"
           }
          ],
          "pie": [
           {
            "automargin": true,
            "type": "pie"
           }
          ],
          "scatter": [
           {
            "fillpattern": {
             "fillmode": "overlay",
             "size": 10,
             "solidity": 0.2
            },
            "type": "scatter"
           }
          ],
          "scatter3d": [
           {
            "line": {
             "colorbar": {
              "outlinewidth": 0,
              "ticks": ""
             }
            },
            "marker": {
             "colorbar": {
              "outlinewidth": 0,
              "ticks": ""
             }
            },
            "type": "scatter3d"
           }
          ],
          "scattercarpet": [
           {
            "marker": {
             "colorbar": {
              "outlinewidth": 0,
              "ticks": ""
             }
            },
            "type": "scattercarpet"
           }
          ],
          "scattergeo": [
           {
            "marker": {
             "colorbar": {
              "outlinewidth": 0,
              "ticks": ""
             }
            },
            "type": "scattergeo"
           }
          ],
          "scattergl": [
           {
            "marker": {
             "colorbar": {
              "outlinewidth": 0,
              "ticks": ""
             }
            },
            "type": "scattergl"
           }
          ],
          "scattermap": [
           {
            "marker": {
             "colorbar": {
              "outlinewidth": 0,
              "ticks": ""
             }
            },
            "type": "scattermap"
           }
          ],
          "scattermapbox": [
           {
            "marker": {
             "colorbar": {
              "outlinewidth": 0,
              "ticks": ""
             }
            },
            "type": "scattermapbox"
           }
          ],
          "scatterpolar": [
           {
            "marker": {
             "colorbar": {
              "outlinewidth": 0,
              "ticks": ""
             }
            },
            "type": "scatterpolar"
           }
          ],
          "scatterpolargl": [
           {
            "marker": {
             "colorbar": {
              "outlinewidth": 0,
              "ticks": ""
             }
            },
            "type": "scatterpolargl"
           }
          ],
          "scatterternary": [
           {
            "marker": {
             "colorbar": {
              "outlinewidth": 0,
              "ticks": ""
             }
            },
            "type": "scatterternary"
           }
          ],
          "surface": [
           {
            "colorbar": {
             "outlinewidth": 0,
             "ticks": ""
            },
            "colorscale": [
             [
              0,
              "#0d0887"
             ],
             [
              0.1111111111111111,
              "#46039f"
             ],
             [
              0.2222222222222222,
              "#7201a8"
             ],
             [
              0.3333333333333333,
              "#9c179e"
             ],
             [
              0.4444444444444444,
              "#bd3786"
             ],
             [
              0.5555555555555556,
              "#d8576b"
             ],
             [
              0.6666666666666666,
              "#ed7953"
             ],
             [
              0.7777777777777778,
              "#fb9f3a"
             ],
             [
              0.8888888888888888,
              "#fdca26"
             ],
             [
              1,
              "#f0f921"
             ]
            ],
            "type": "surface"
           }
          ],
          "table": [
           {
            "cells": {
             "fill": {
              "color": "#EBF0F8"
             },
             "line": {
              "color": "white"
             }
            },
            "header": {
             "fill": {
              "color": "#C8D4E3"
             },
             "line": {
              "color": "white"
             }
            },
            "type": "table"
           }
          ]
         },
         "layout": {
          "annotationdefaults": {
           "arrowcolor": "#2a3f5f",
           "arrowhead": 0,
           "arrowwidth": 1
          },
          "autotypenumbers": "strict",
          "coloraxis": {
           "colorbar": {
            "outlinewidth": 0,
            "ticks": ""
           }
          },
          "colorscale": {
           "diverging": [
            [
             0,
             "#8e0152"
            ],
            [
             0.1,
             "#c51b7d"
            ],
            [
             0.2,
             "#de77ae"
            ],
            [
             0.3,
             "#f1b6da"
            ],
            [
             0.4,
             "#fde0ef"
            ],
            [
             0.5,
             "#f7f7f7"
            ],
            [
             0.6,
             "#e6f5d0"
            ],
            [
             0.7,
             "#b8e186"
            ],
            [
             0.8,
             "#7fbc41"
            ],
            [
             0.9,
             "#4d9221"
            ],
            [
             1,
             "#276419"
            ]
           ],
           "sequential": [
            [
             0,
             "#0d0887"
            ],
            [
             0.1111111111111111,
             "#46039f"
            ],
            [
             0.2222222222222222,
             "#7201a8"
            ],
            [
             0.3333333333333333,
             "#9c179e"
            ],
            [
             0.4444444444444444,
             "#bd3786"
            ],
            [
             0.5555555555555556,
             "#d8576b"
            ],
            [
             0.6666666666666666,
             "#ed7953"
            ],
            [
             0.7777777777777778,
             "#fb9f3a"
            ],
            [
             0.8888888888888888,
             "#fdca26"
            ],
            [
             1,
             "#f0f921"
            ]
           ],
           "sequentialminus": [
            [
             0,
             "#0d0887"
            ],
            [
             0.1111111111111111,
             "#46039f"
            ],
            [
             0.2222222222222222,
             "#7201a8"
            ],
            [
             0.3333333333333333,
             "#9c179e"
            ],
            [
             0.4444444444444444,
             "#bd3786"
            ],
            [
             0.5555555555555556,
             "#d8576b"
            ],
            [
             0.6666666666666666,
             "#ed7953"
            ],
            [
             0.7777777777777778,
             "#fb9f3a"
            ],
            [
             0.8888888888888888,
             "#fdca26"
            ],
            [
             1,
             "#f0f921"
            ]
           ]
          },
          "colorway": [
           "#636efa",
           "#EF553B",
           "#00cc96",
           "#ab63fa",
           "#FFA15A",
           "#19d3f3",
           "#FF6692",
           "#B6E880",
           "#FF97FF",
           "#FECB52"
          ],
          "font": {
           "color": "#2a3f5f"
          },
          "geo": {
           "bgcolor": "white",
           "lakecolor": "white",
           "landcolor": "#E5ECF6",
           "showlakes": true,
           "showland": true,
           "subunitcolor": "white"
          },
          "hoverlabel": {
           "align": "left"
          },
          "hovermode": "closest",
          "mapbox": {
           "style": "light"
          },
          "paper_bgcolor": "white",
          "plot_bgcolor": "#E5ECF6",
          "polar": {
           "angularaxis": {
            "gridcolor": "white",
            "linecolor": "white",
            "ticks": ""
           },
           "bgcolor": "#E5ECF6",
           "radialaxis": {
            "gridcolor": "white",
            "linecolor": "white",
            "ticks": ""
           }
          },
          "scene": {
           "xaxis": {
            "backgroundcolor": "#E5ECF6",
            "gridcolor": "white",
            "gridwidth": 2,
            "linecolor": "white",
            "showbackground": true,
            "ticks": "",
            "zerolinecolor": "white"
           },
           "yaxis": {
            "backgroundcolor": "#E5ECF6",
            "gridcolor": "white",
            "gridwidth": 2,
            "linecolor": "white",
            "showbackground": true,
            "ticks": "",
            "zerolinecolor": "white"
           },
           "zaxis": {
            "backgroundcolor": "#E5ECF6",
            "gridcolor": "white",
            "gridwidth": 2,
            "linecolor": "white",
            "showbackground": true,
            "ticks": "",
            "zerolinecolor": "white"
           }
          },
          "shapedefaults": {
           "line": {
            "color": "#2a3f5f"
           }
          },
          "ternary": {
           "aaxis": {
            "gridcolor": "white",
            "linecolor": "white",
            "ticks": ""
           },
           "baxis": {
            "gridcolor": "white",
            "linecolor": "white",
            "ticks": ""
           },
           "bgcolor": "#E5ECF6",
           "caxis": {
            "gridcolor": "white",
            "linecolor": "white",
            "ticks": ""
           }
          },
          "title": {
           "x": 0.05
          },
          "xaxis": {
           "automargin": true,
           "gridcolor": "white",
           "linecolor": "white",
           "ticks": "",
           "title": {
            "standoff": 15
           },
           "zerolinecolor": "white",
           "zerolinewidth": 2
          },
          "yaxis": {
           "automargin": true,
           "gridcolor": "white",
           "linecolor": "white",
           "ticks": "",
           "title": {
            "standoff": 15
           },
           "zerolinecolor": "white",
           "zerolinewidth": 2
          }
         }
        },
        "title": {
         "text": "Casos por Departamento en 0"
        },
        "updatemenus": [
         {
          "buttons": [
           {
            "args": [
             null,
             {
              "frame": {
               "duration": 500,
               "redraw": true
              },
              "fromcurrent": true,
              "transition": {
               "duration": 0
              }
             }
            ],
            "label": "Play",
            "method": "animate"
           },
           {
            "args": [
             [
              null
             ],
             {
              "frame": {
               "duration": 0,
               "redraw": false
              },
              "mode": "immediate",
              "transition": {
               "duration": 0
              }
             }
            ],
            "label": "Pause",
            "method": "animate"
           }
          ],
          "pad": {
           "r": 10,
           "t": 0
          },
          "showactive": false,
          "type": "buttons",
          "x": 1.1,
          "xanchor": "right",
          "y": 1,
          "yanchor": "top"
         }
        ],
        "xaxis": {
         "anchor": "y",
         "domain": [
          0,
          1
         ],
         "title": {
          "text": "Departamento"
         }
        },
        "yaxis": {
         "anchor": "x",
         "domain": [
          0,
          1
         ],
         "title": {
          "text": "Número de Casos"
         }
        }
       }
      },
      "image/png": "[encoded data removed]"
     },
     "metadata": {},
     "output_type": "display_data"
    }
   ],
   "source": [
    "import pandas as pd\n",
    "import plotly.express as px\n",
    "\n",
    "# Supongamos que tu DataFrame se llama df\n",
    "\n",
    "# Contar casos por año y departamento para usar en el gráfico\n",
    "df_counts = df.groupby(['a_o', 'departamento']).size().reset_index(name='casos')\n",
    "\n",
    "# Ordenar años para el slider\n",
    "años = sorted(df['a_o'].unique())\n",
    "\n",
    "# Crear la figura inicial con datos del primer año\n",
    "fig = px.bar(df_counts[df_counts['a_o'] == años[0]], \n",
    "             x='departamento', y='casos',\n",
    "             title=f'Casos por Departamento en {años[0]}',\n",
    "             labels={'casos':'Número de Casos', 'departamento':'Departamento'},\n",
    "             height=600)\n",
    "\n",
    "# Crear frames para animación (cada frame es un año)\n",
    "frames = []\n",
    "for año in años:\n",
    "    df_año = df_counts[df_counts['a_o'] == año]\n",
    "    frames.append(dict(\n",
    "        data=[dict(type='bar', x=df_año['departamento'], y=df_año['casos'])],\n",
    "        name=str(año)\n",
    "    ))\n",
    "\n",
    "fig.frames = frames\n",
    "\n",
    "# Configurar el slider\n",
    "sliders = [dict(\n",
    "    active=0,\n",
    "    currentvalue={\"prefix\": \"Año: \"},\n",
    "    pad={\"t\": 50},\n",
    "    steps=[dict(method='animate',\n",
    "                args=[[str(año)],\n",
    "                      {\"mode\": \"immediate\",\n",
    "                       \"frame\": {\"duration\": 500, \"redraw\": True},\n",
    "                       \"transition\": {\"duration\": 0}}],\n",
    "                label=str(año)) for año in años]\n",
    ")]\n",
    "\n",
    "# Configurar layout con botones de play/pause y slider\n",
    "fig.update_layout(\n",
    "    updatemenus=[dict(\n",
    "        type='buttons',\n",
    "        showactive=False,\n",
    "        y=1,\n",
    "        x=1.1,\n",
    "        xanchor='right',\n",
    "        yanchor='top',\n",
    "        pad=dict(t=0, r=10),\n",
    "        buttons=[dict(label='Play',\n",
    "                      method='animate',\n",
    "                      args=[None, {\"frame\": {\"duration\": 500, \"redraw\": True},\n",
    "                                   \"fromcurrent\": True, \"transition\": {\"duration\": 0}}]),\n",
    "                 dict(label='Pause',\n",
    "                      method='animate',\n",
    "                      args=[[None], {\"frame\": {\"duration\": 0, \"redraw\": False},\n",
    "                                     \"mode\": \"immediate\",\n",
    "                                     \"transition\": {\"duration\": 0}}])]\n",
    "    )],\n",
    "    sliders=sliders\n",
    ")\n",
    "\n",
    "fig.show()\n",
    "fig.write_html(\"casos_desapariciones_por_departamento.html\")\n"
   ]
  },
  {
   "cell_type": "code",
   "execution_count": 12,
   "id": "d0afb477-8084-404d-b1ba-5de72fa8cf33",
   "metadata": {},
   "outputs": [
    {
     "data": {
      "text/plain": [
       "Index(['id_caso', 'c_digo_dane_de_municipio', 'municipio', 'departamento',\n",
       "       'a_o', 'mes', 'd_a', 'id_persona', 'sexo', 'ocupaci_n',\n",
       "       'calidad_de_la_v_ctima_o_la', 'tipo_de_poblaci_n_vulnerable',\n",
       "       'situaci_n_actual_de_la_v', 'latitud_longitud',\n",
       "       'fuente_de_informaci_n_de', 'edad', 'militante_pol_tico',\n",
       "       'fuerza_o_grupo_armado', 'descripci_n_fuerza_o_grupo', 'etnia'],\n",
       "      dtype='object')"
      ]
     },
     "execution_count": 12,
     "metadata": {},
     "output_type": "execute_result"
    }
   ],
   "source": [
    "df.columns\n"
   ]
  },
  {
   "cell_type": "code",
   "execution_count": 45,
   "id": "ea693a11-d498-4c7e-9f4c-6ade062efae9",
   "metadata": {},
   "outputs": [
    {
     "data": {
      "text/html": [
       "<div>\n",
       "<style scoped>\n",
       "    .dataframe tbody tr th:only-of-type {\n",
       "        vertical-align: middle;\n",
       "    }\n",
       "\n",
       "    .dataframe tbody tr th {\n",
       "        vertical-align: top;\n",
       "    }\n",
       "\n",
       "    .dataframe thead th {\n",
       "        text-align: right;\n",
       "    }\n",
       "</style>\n",
       "<table border=\"1\" class=\"dataframe\">\n",
       "  <thead>\n",
       "    <tr style=\"text-align: right;\">\n",
       "      <th></th>\n",
       "      <th>id_caso</th>\n",
       "      <th>c_digo_dane_de_municipio</th>\n",
       "      <th>municipio</th>\n",
       "      <th>departamento</th>\n",
       "      <th>a_o</th>\n",
       "      <th>mes</th>\n",
       "      <th>d_a</th>\n",
       "      <th>id_persona</th>\n",
       "      <th>sexo</th>\n",
       "      <th>ocupaci_n</th>\n",
       "      <th>calidad_de_la_v_ctima_o_la</th>\n",
       "      <th>tipo_de_poblaci_n_vulnerable</th>\n",
       "      <th>situaci_n_actual_de_la_v</th>\n",
       "      <th>latitud_longitud</th>\n",
       "      <th>fuente_de_informaci_n_de</th>\n",
       "      <th>edad</th>\n",
       "      <th>militante_pol_tico</th>\n",
       "      <th>fuerza_o_grupo_armado</th>\n",
       "      <th>descripci_n_fuerza_o_grupo</th>\n",
       "      <th>etnia</th>\n",
       "    </tr>\n",
       "  </thead>\n",
       "  <tbody>\n",
       "    <tr>\n",
       "      <th>0</th>\n",
       "      <td>100265</td>\n",
       "      <td>25368</td>\n",
       "      <td>JERUSALEN</td>\n",
       "      <td>CUNDINAMARCA</td>\n",
       "      <td>1991</td>\n",
       "      <td>5</td>\n",
       "      <td>25</td>\n",
       "      <td>72226</td>\n",
       "      <td>HOMBRE</td>\n",
       "      <td>PERSONAL DE SALUD</td>\n",
       "      <td>CIVIL</td>\n",
       "      <td>MAESTRO O EDUCADOR</td>\n",
       "      <td>APARECIÓ MUERTO</td>\n",
       "      <td>{'type': 'Point', 'coordinates': [-74.68915853...</td>\n",
       "      <td>NaN</td>\n",
       "      <td>NaN</td>\n",
       "      <td>NaN</td>\n",
       "      <td>NAN</td>\n",
       "      <td>NaN</td>\n",
       "      <td>NaN</td>\n",
       "    </tr>\n",
       "    <tr>\n",
       "      <th>1</th>\n",
       "      <td>100282</td>\n",
       "      <td>25386</td>\n",
       "      <td>LA MESA</td>\n",
       "      <td>CUNDINAMARCA</td>\n",
       "      <td>2004</td>\n",
       "      <td>12</td>\n",
       "      <td>2</td>\n",
       "      <td>129425</td>\n",
       "      <td>HOMBRE</td>\n",
       "      <td>EMPLEADO</td>\n",
       "      <td>CIVIL</td>\n",
       "      <td>NaN</td>\n",
       "      <td>APARECIÓ MUERTO</td>\n",
       "      <td>{'type': 'Point', 'coordinates': [-74.47321717...</td>\n",
       "      <td>ENTIDAD PÚBLICA</td>\n",
       "      <td>ADULTEZ (29-59 AÑOS)</td>\n",
       "      <td>NaN</td>\n",
       "      <td>NAN</td>\n",
       "      <td>NaN</td>\n",
       "      <td>NaN</td>\n",
       "    </tr>\n",
       "    <tr>\n",
       "      <th>2</th>\n",
       "      <td>101616</td>\n",
       "      <td>25885</td>\n",
       "      <td>YACOPI</td>\n",
       "      <td>CUNDINAMARCA</td>\n",
       "      <td>1993</td>\n",
       "      <td>3</td>\n",
       "      <td>9</td>\n",
       "      <td>71898</td>\n",
       "      <td>HOMBRE</td>\n",
       "      <td>CAMPESINO</td>\n",
       "      <td>CIVIL</td>\n",
       "      <td>NaN</td>\n",
       "      <td>APARECIÓ MUERTO</td>\n",
       "      <td>{'type': 'Point', 'coordinates': [-74.33802435...</td>\n",
       "      <td>FAMILIARES O COMUNIDAD</td>\n",
       "      <td>NaN</td>\n",
       "      <td>NaN</td>\n",
       "      <td>NAN</td>\n",
       "      <td>NaN</td>\n",
       "      <td>NaN</td>\n",
       "    </tr>\n",
       "    <tr>\n",
       "      <th>3</th>\n",
       "      <td>101616</td>\n",
       "      <td>25885</td>\n",
       "      <td>YACOPI</td>\n",
       "      <td>CUNDINAMARCA</td>\n",
       "      <td>1993</td>\n",
       "      <td>3</td>\n",
       "      <td>9</td>\n",
       "      <td>71900</td>\n",
       "      <td>HOMBRE</td>\n",
       "      <td>CAMPESINO</td>\n",
       "      <td>CIVIL</td>\n",
       "      <td>NaN</td>\n",
       "      <td>APARECIÓ MUERTO</td>\n",
       "      <td>{'type': 'Point', 'coordinates': [-74.33802435...</td>\n",
       "      <td>FAMILIARES O COMUNIDAD</td>\n",
       "      <td>ADOLESCENCIA (12-17 AÑOS)</td>\n",
       "      <td>NaN</td>\n",
       "      <td>NAN</td>\n",
       "      <td>NaN</td>\n",
       "      <td>NaN</td>\n",
       "    </tr>\n",
       "    <tr>\n",
       "      <th>4</th>\n",
       "      <td>102204</td>\n",
       "      <td>27099</td>\n",
       "      <td>BOJAYA</td>\n",
       "      <td>CHOCO</td>\n",
       "      <td>1997</td>\n",
       "      <td>6</td>\n",
       "      <td>8</td>\n",
       "      <td>80824</td>\n",
       "      <td>HOMBRE</td>\n",
       "      <td>OBRERO</td>\n",
       "      <td>CIVIL</td>\n",
       "      <td>NaN</td>\n",
       "      <td>APARECIÓ MUERTO</td>\n",
       "      <td>{'type': 'Point', 'coordinates': [-77.09933025...</td>\n",
       "      <td>ENTIDAD PÚBLICA</td>\n",
       "      <td>NaN</td>\n",
       "      <td>UNIÓN PATRIÓTICA</td>\n",
       "      <td>NAN</td>\n",
       "      <td>NaN</td>\n",
       "      <td>NaN</td>\n",
       "    </tr>\n",
       "    <tr>\n",
       "      <th>...</th>\n",
       "      <td>...</td>\n",
       "      <td>...</td>\n",
       "      <td>...</td>\n",
       "      <td>...</td>\n",
       "      <td>...</td>\n",
       "      <td>...</td>\n",
       "      <td>...</td>\n",
       "      <td>...</td>\n",
       "      <td>...</td>\n",
       "      <td>...</td>\n",
       "      <td>...</td>\n",
       "      <td>...</td>\n",
       "      <td>...</td>\n",
       "      <td>...</td>\n",
       "      <td>...</td>\n",
       "      <td>...</td>\n",
       "      <td>...</td>\n",
       "      <td>...</td>\n",
       "      <td>...</td>\n",
       "      <td>...</td>\n",
       "    </tr>\n",
       "    <tr>\n",
       "      <th>80896</th>\n",
       "      <td>98477</td>\n",
       "      <td>23580</td>\n",
       "      <td>PUERTO LIBERTADOR</td>\n",
       "      <td>CORDOBA</td>\n",
       "      <td>1990</td>\n",
       "      <td>3</td>\n",
       "      <td>16</td>\n",
       "      <td>136603</td>\n",
       "      <td>HOMBRE</td>\n",
       "      <td>MINERO</td>\n",
       "      <td>CIVIL</td>\n",
       "      <td>NaN</td>\n",
       "      <td>DESAPARECIDO</td>\n",
       "      <td>{'type': 'Point', 'coordinates': [-75.77123224...</td>\n",
       "      <td>FAMILIARES O COMUNIDAD</td>\n",
       "      <td>JUVENTUD (18-28 AÑOS)</td>\n",
       "      <td>NaN</td>\n",
       "      <td>NAN</td>\n",
       "      <td>NaN</td>\n",
       "      <td>NaN</td>\n",
       "    </tr>\n",
       "    <tr>\n",
       "      <th>80897</th>\n",
       "      <td>98981</td>\n",
       "      <td>23807</td>\n",
       "      <td>TIERRALTA</td>\n",
       "      <td>CORDOBA</td>\n",
       "      <td>2002</td>\n",
       "      <td>2</td>\n",
       "      <td>25</td>\n",
       "      <td>162681</td>\n",
       "      <td>HOMBRE</td>\n",
       "      <td>SIN INFORMACIÓN</td>\n",
       "      <td>CIVIL</td>\n",
       "      <td>NaN</td>\n",
       "      <td>SIGUE DESAPARECIDO PERO EXISTE INFORMACIÓN</td>\n",
       "      <td>{'type': 'Point', 'coordinates': [-76.16846678...</td>\n",
       "      <td>PERPETRADOR DEL HECHO</td>\n",
       "      <td>JUVENTUD (18-28 AÑOS)</td>\n",
       "      <td>NaN</td>\n",
       "      <td>NAN</td>\n",
       "      <td>NaN</td>\n",
       "      <td>NaN</td>\n",
       "    </tr>\n",
       "    <tr>\n",
       "      <th>80898</th>\n",
       "      <td>9909</td>\n",
       "      <td>27006</td>\n",
       "      <td>ACANDI</td>\n",
       "      <td>CHOCO</td>\n",
       "      <td>1996</td>\n",
       "      <td>1</td>\n",
       "      <td>13</td>\n",
       "      <td>17255</td>\n",
       "      <td>HOMBRE</td>\n",
       "      <td>SIN INFORMACIÓN</td>\n",
       "      <td>CIVIL</td>\n",
       "      <td>NaN</td>\n",
       "      <td>SIGUE DESAPARECIDO PERO EXISTE INFORMACIÓN</td>\n",
       "      <td>{'type': 'Point', 'coordinates': [-77.26560256...</td>\n",
       "      <td>FAMILIARES O COMUNIDAD</td>\n",
       "      <td>NaN</td>\n",
       "      <td>NaN</td>\n",
       "      <td>NAN</td>\n",
       "      <td>NaN</td>\n",
       "      <td>NaN</td>\n",
       "    </tr>\n",
       "    <tr>\n",
       "      <th>80899</th>\n",
       "      <td>99394</td>\n",
       "      <td>23855</td>\n",
       "      <td>VALENCIA</td>\n",
       "      <td>CORDOBA</td>\n",
       "      <td>2000</td>\n",
       "      <td>7</td>\n",
       "      <td>17</td>\n",
       "      <td>90275</td>\n",
       "      <td>HOMBRE</td>\n",
       "      <td>TRABAJO SIN ESPECIFICAR</td>\n",
       "      <td>CIVIL</td>\n",
       "      <td>NaN</td>\n",
       "      <td>APARECIÓ MUERTO</td>\n",
       "      <td>{'type': 'Point', 'coordinates': [-76.34533989...</td>\n",
       "      <td>FAMILIARES O COMUNIDAD</td>\n",
       "      <td>ADOLESCENCIA (12-17 AÑOS)</td>\n",
       "      <td>NaN</td>\n",
       "      <td>NAN</td>\n",
       "      <td>NaN</td>\n",
       "      <td>NaN</td>\n",
       "    </tr>\n",
       "    <tr>\n",
       "      <th>80900</th>\n",
       "      <td>99661</td>\n",
       "      <td>25899</td>\n",
       "      <td>ZIPAQUIRA</td>\n",
       "      <td>CUNDINAMARCA</td>\n",
       "      <td>2008</td>\n",
       "      <td>4</td>\n",
       "      <td>15</td>\n",
       "      <td>111373</td>\n",
       "      <td>HOMBRE</td>\n",
       "      <td>EMPLEADO</td>\n",
       "      <td>CIVIL</td>\n",
       "      <td>SINDICALISTA</td>\n",
       "      <td>APARECIÓ MUERTO</td>\n",
       "      <td>{'type': 'Point', 'coordinates': [-74.04960323...</td>\n",
       "      <td>FAMILIARES O COMUNIDAD</td>\n",
       "      <td>NaN</td>\n",
       "      <td>NaN</td>\n",
       "      <td>NAN</td>\n",
       "      <td>NaN</td>\n",
       "      <td>NaN</td>\n",
       "    </tr>\n",
       "  </tbody>\n",
       "</table>\n",
       "<p>80901 rows × 20 columns</p>\n",
       "</div>"
      ],
      "text/plain": [
       "      id_caso c_digo_dane_de_municipio          municipio  departamento   a_o  \\\n",
       "0      100265                    25368          JERUSALEN  CUNDINAMARCA  1991   \n",
       "1      100282                    25386            LA MESA  CUNDINAMARCA  2004   \n",
       "2      101616                    25885             YACOPI  CUNDINAMARCA  1993   \n",
       "3      101616                    25885             YACOPI  CUNDINAMARCA  1993   \n",
       "4      102204                    27099             BOJAYA         CHOCO  1997   \n",
       "...       ...                      ...                ...           ...   ...   \n",
       "80896   98477                    23580  PUERTO LIBERTADOR       CORDOBA  1990   \n",
       "80897   98981                    23807          TIERRALTA       CORDOBA  2002   \n",
       "80898    9909                    27006             ACANDI         CHOCO  1996   \n",
       "80899   99394                    23855           VALENCIA       CORDOBA  2000   \n",
       "80900   99661                    25899          ZIPAQUIRA  CUNDINAMARCA  2008   \n",
       "\n",
       "      mes d_a id_persona    sexo                ocupaci_n  \\\n",
       "0       5  25      72226  HOMBRE        PERSONAL DE SALUD   \n",
       "1      12   2     129425  HOMBRE                 EMPLEADO   \n",
       "2       3   9      71898  HOMBRE                CAMPESINO   \n",
       "3       3   9      71900  HOMBRE                CAMPESINO   \n",
       "4       6   8      80824  HOMBRE                   OBRERO   \n",
       "...    ..  ..        ...     ...                      ...   \n",
       "80896   3  16     136603  HOMBRE                   MINERO   \n",
       "80897   2  25     162681  HOMBRE          SIN INFORMACIÓN   \n",
       "80898   1  13      17255  HOMBRE          SIN INFORMACIÓN   \n",
       "80899   7  17      90275  HOMBRE  TRABAJO SIN ESPECIFICAR   \n",
       "80900   4  15     111373  HOMBRE                 EMPLEADO   \n",
       "\n",
       "      calidad_de_la_v_ctima_o_la tipo_de_poblaci_n_vulnerable  \\\n",
       "0                          CIVIL           MAESTRO O EDUCADOR   \n",
       "1                          CIVIL                          NaN   \n",
       "2                          CIVIL                          NaN   \n",
       "3                          CIVIL                          NaN   \n",
       "4                          CIVIL                          NaN   \n",
       "...                          ...                          ...   \n",
       "80896                      CIVIL                          NaN   \n",
       "80897                      CIVIL                          NaN   \n",
       "80898                      CIVIL                          NaN   \n",
       "80899                      CIVIL                          NaN   \n",
       "80900                      CIVIL                 SINDICALISTA   \n",
       "\n",
       "                         situaci_n_actual_de_la_v  \\\n",
       "0                                 APARECIÓ MUERTO   \n",
       "1                                 APARECIÓ MUERTO   \n",
       "2                                 APARECIÓ MUERTO   \n",
       "3                                 APARECIÓ MUERTO   \n",
       "4                                 APARECIÓ MUERTO   \n",
       "...                                           ...   \n",
       "80896                                DESAPARECIDO   \n",
       "80897  SIGUE DESAPARECIDO PERO EXISTE INFORMACIÓN   \n",
       "80898  SIGUE DESAPARECIDO PERO EXISTE INFORMACIÓN   \n",
       "80899                             APARECIÓ MUERTO   \n",
       "80900                             APARECIÓ MUERTO   \n",
       "\n",
       "                                        latitud_longitud  \\\n",
       "0      {'type': 'Point', 'coordinates': [-74.68915853...   \n",
       "1      {'type': 'Point', 'coordinates': [-74.47321717...   \n",
       "2      {'type': 'Point', 'coordinates': [-74.33802435...   \n",
       "3      {'type': 'Point', 'coordinates': [-74.33802435...   \n",
       "4      {'type': 'Point', 'coordinates': [-77.09933025...   \n",
       "...                                                  ...   \n",
       "80896  {'type': 'Point', 'coordinates': [-75.77123224...   \n",
       "80897  {'type': 'Point', 'coordinates': [-76.16846678...   \n",
       "80898  {'type': 'Point', 'coordinates': [-77.26560256...   \n",
       "80899  {'type': 'Point', 'coordinates': [-76.34533989...   \n",
       "80900  {'type': 'Point', 'coordinates': [-74.04960323...   \n",
       "\n",
       "      fuente_de_informaci_n_de                       edad militante_pol_tico  \\\n",
       "0                          NaN                        NaN                NaN   \n",
       "1              ENTIDAD PÚBLICA       ADULTEZ (29-59 AÑOS)                NaN   \n",
       "2       FAMILIARES O COMUNIDAD                        NaN                NaN   \n",
       "3       FAMILIARES O COMUNIDAD  ADOLESCENCIA (12-17 AÑOS)                NaN   \n",
       "4              ENTIDAD PÚBLICA                        NaN   UNIÓN PATRIÓTICA   \n",
       "...                        ...                        ...                ...   \n",
       "80896   FAMILIARES O COMUNIDAD      JUVENTUD (18-28 AÑOS)                NaN   \n",
       "80897    PERPETRADOR DEL HECHO      JUVENTUD (18-28 AÑOS)                NaN   \n",
       "80898   FAMILIARES O COMUNIDAD                        NaN                NaN   \n",
       "80899   FAMILIARES O COMUNIDAD  ADOLESCENCIA (12-17 AÑOS)                NaN   \n",
       "80900   FAMILIARES O COMUNIDAD                        NaN                NaN   \n",
       "\n",
       "      fuerza_o_grupo_armado descripci_n_fuerza_o_grupo etnia  \n",
       "0                       NAN                        NaN   NaN  \n",
       "1                       NAN                        NaN   NaN  \n",
       "2                       NAN                        NaN   NaN  \n",
       "3                       NAN                        NaN   NaN  \n",
       "4                       NAN                        NaN   NaN  \n",
       "...                     ...                        ...   ...  \n",
       "80896                   NAN                        NaN   NaN  \n",
       "80897                   NAN                        NaN   NaN  \n",
       "80898                   NAN                        NaN   NaN  \n",
       "80899                   NAN                        NaN   NaN  \n",
       "80900                   NAN                        NaN   NaN  \n",
       "\n",
       "[80901 rows x 20 columns]"
      ]
     },
     "execution_count": 45,
     "metadata": {},
     "output_type": "execute_result"
    }
   ],
   "source": [
    "df"
   ]
  },
  {
   "cell_type": "markdown",
   "id": "4a296fa3-acd8-4054-b03d-357faa31eb60",
   "metadata": {},
   "source": [
    "### Informe"
   ]
  },
  {
   "cell_type": "markdown",
   "id": "a0a7e0ad-1dca-47c2-b031-232891e4841f",
   "metadata": {},
   "source": [
    "# Informe de Análisis de Datos\n",
    "\n",
    "## Sistema de Información de Eventos de Violencia del Conflicto Armado (SIEVCAC)  \n",
    "**Tipo de Violencia:** Desaparición Forzada (DF)  \n",
    "**Corte al:** 30-09-2024\n",
    "\n",
    "---\n",
    "\n",
    "## 1️⃣ Resumen Ejecutivo\n",
    "\n",
    "Este informe presenta un análisis exploratorio de los datos de víctimas del tipo de violencia **Desaparición Forzada (DF)**, obtenidos del sistema **SIEVCAC**. Se busca identificar patrones, distribuciones y casos más relevantes a partir de los datos recopilados hasta la fecha de corte.  \n",
    "\n",
    "El análisis preliminar revela lo siguiente:\n",
    "\n",
    "- Total de víctimas registradas: **85,901**\n",
    "- La mayoría de las víctimas continúan en situación de **desaparecido** o **sin información actualizada**.\n",
    "- El análisis se centra en variables como **situación actual**, **género**, **ubicación geográfica**, **edad**, entre otras.\n",
    "\n",
    "---\n",
    "\n",
    "## 2️⃣ Estructura de los Datos\n",
    "\n",
    "El conjunto de datos cuenta con las siguientes columnas clave:\n",
    "\n",
    "| Columna                             | Descripción                               |\n",
    "| ---------------------------------- | ----------------------------------------- |\n",
    "| `id_caso`                           | Identificador único del caso              |\n",
    "| `c_digo_dane_de_municipio`          | Código DANE del municipio                 |\n",
    "| `municipio`                         | Nombre del municipio                      |\n",
    "| `departamento`                      | Nombre del departamento                   |\n",
    "| `a_o`, `mes`, `d_a`                 | Fecha del evento (año, mes, día)          |\n",
    "| `id_persona`                        | Identificador de la víctima               |\n",
    "| `sexo`                              | Sexo de la víctima                        |\n",
    "| `ocupaci_n`                         | Ocupación de la víctima                   |\n",
    "| `calidad_de_la_v_ctima_o_la`        | Rol o calidad de la víctima               |\n",
    "| `tipo_de_poblaci_n_vulnerable`      | Si pertenece a una población vulnerable    |\n",
    "| `situaci_n_actual_de_la_v`          | Estado actual de la víctima               |\n",
    "| `latitud_longitud`                  | Ubicación geográfica                      |\n",
    "| `fuente_de_informaci_n_de`          | Fuente de información                     |\n",
    "| `edad`                              | Edad de la víctima                        |\n",
    "| `militante_pol_tico`                | Militancia política                       |\n",
    "| `fuerza_o_grupo_armado`             | Grupo armado involucrado                  |\n",
    "| `descripci_n_fuerza_o_grupo`        | Descripción del grupo armado              |\n",
    "| `etnia`                             | Etnia de la víctima                       |\n",
    "\n",
    "---\n",
    "\n",
    "## 3️⃣ Distribución de la Situación Actual de las Víctimas\n",
    "\n",
    "A continuación se presentan los casos registrados según la situación actual de las víctimas:\n",
    "\n",
    "| Situación Actual                                      | Número de Casos |\n",
    "| ----------------------------------------------------- | --------------- |\n",
    "| DESAPARECIDO                                          | 58,987          |\n",
    "| SIGUE DESAPARECIDO PERO EXISTE INFORMACIÓN            | 11,740          |\n",
    "| APARECIÓ MUERTO                                       | 8,380           |\n",
    "| APARECIÓ VIVO                                         | 1,789           |\n",
    "| MUERTO EN CAUTIVERIO                                  | 2               |\n",
    "| LIBERADO                                              | 2               |\n",
    "| CONTINÚA SECUESTRADO                                  | 1               |\n",
    "\n",
    "---\n",
    "\n",
    "## 4️⃣ Observaciones Iniciales\n",
    "\n",
    "- La gran mayoría de las víctimas se encuentran en estado de **DESAPARECIDO** (**68.6%** del total).  \n",
    "- Un porcentaje importante (**13.6%**) corresponde a víctimas de las cuales **existe información** pero que aún siguen desaparecidas.\n",
    "- Casos en los que la víctima **apareció muerta** representan **9.7%** del total.\n",
    "- Casos en los que la víctima **apareció viva** son significativamente menores, apenas **2.1%** del total.\n",
    "- Existen situaciones más complejas, como víctimas **muertas en cautiverio**, **liberadas** o que **continúan secuestradas**, que representan una fracción mínima.\n"
   ]
  },
  {
   "cell_type": "code",
   "execution_count": null,
   "id": "d963abcd-ceb9-4f98-8bc1-f82e23d6ac92",
   "metadata": {},
   "outputs": [],
   "source": []
  }
 ],
 "metadata": {
  "kernelspec": {
   "display_name": "Python 3 (ipykernel)",
   "language": "python",
   "name": "python3"
  },
  "language_info": {
   "codemirror_mode": {
    "name": "ipython",
    "version": 3
   },
   "file_extension": ".py",
   "mimetype": "text/x-python",
   "name": "python",
   "nbconvert_exporter": "python",
   "pygments_lexer": "ipython3",
   "version": "3.12.3"
  }
 },
 "nbformat": 4,
 "nbformat_minor": 5
}
